{
 "cells": [
  {
   "cell_type": "code",
   "execution_count": 1,
   "metadata": {},
   "outputs": [],
   "source": [
    "import pandas as pd\n",
    "import requests"
   ]
  },
  {
   "cell_type": "code",
   "execution_count": 5,
   "metadata": {},
   "outputs": [],
   "source": [
    "url = 'http://127.0.0.1:5000/predict'\n",
    "\n",
    "payload = {\n",
    "    'Cost' : 100,\n",
    "    'Priority' : 1,\n",
    "    'Progress' : 50,\n",
    "    'Duration' : 10,\n",
    "    'Worker' : 3,\n",
    "    'TaskLength' : 10,\n",
    "    'IsBadWeather' : 1,\n",
    "    'WeatherAssessment' : 20,\n",
    "    'StartDelay' : 2,\n",
    "    'DayCount' : 10,\n",
    "    'Is_Delayed' : 0\n",
    "}\n",
    "\n",
    "response = requests.post(url, json=payload)"
   ]
  },
  {
   "cell_type": "code",
   "execution_count": 6,
   "metadata": {},
   "outputs": [
    {
     "name": "stdout",
     "output_type": "stream",
     "text": [
      "Status Code: 200\n",
      "Response JSON: {'prediction': 4.947172465649584}\n"
     ]
    }
   ],
   "source": [
    "print(f'Status Code: {response.status_code}')\n",
    "print(f'Response JSON: {response.json()}')"
   ]
  },
  {
   "cell_type": "code",
   "execution_count": null,
   "metadata": {},
   "outputs": [],
   "source": []
  }
 ],
 "metadata": {
  "kernelspec": {
   "display_name": "engine",
   "language": "python",
   "name": "python3"
  },
  "language_info": {
   "codemirror_mode": {
    "name": "ipython",
    "version": 3
   },
   "file_extension": ".py",
   "mimetype": "text/x-python",
   "name": "python",
   "nbconvert_exporter": "python",
   "pygments_lexer": "ipython3",
   "version": "3.11.8"
  }
 },
 "nbformat": 4,
 "nbformat_minor": 2
}

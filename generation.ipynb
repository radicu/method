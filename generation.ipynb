{
 "cells": [
  {
   "cell_type": "markdown",
   "metadata": {},
   "source": [
    "Author : Fadhil Umar\n",
    "\n",
    "dependencies :\n",
    "1. Python 3.11\n",
    "2. faker\n",
    "3. pyodbc"
   ]
  },
  {
   "cell_type": "code",
   "execution_count": 7,
   "metadata": {},
   "outputs": [],
   "source": [
    "from faker import Faker\n",
    "import pyodbc\n",
    "import random\n",
    "from datetime import datetime, timedelta\n",
    "\n",
    "from utils import isWorkday, estEndDate, User, Project"
   ]
  },
  {
   "cell_type": "code",
   "execution_count": 8,
   "metadata": {},
   "outputs": [
    {
     "data": {
      "text/plain": [
       "'DRIVER={ODBC Driver 17 for SQL Server};SERVER=LAPTOP-2NSE0JH1\\\\SQLEXPRESS;DATABASE=dummy;Trusted_Connection=yes;'"
      ]
     },
     "execution_count": 8,
     "metadata": {},
     "output_type": "execute_result"
    }
   ],
   "source": [
    "server = 'LAPTOP-2NSE0JH1\\SQLEXPRESS'\n",
    "database = 'dummy'\n",
    "\n",
    "conn_str = f'DRIVER={{ODBC Driver 17 for SQL Server}};SERVER={server};DATABASE={database};Trusted_Connection=yes;'\n",
    "conn_str"
   ]
  },
  {
   "cell_type": "code",
   "execution_count": 9,
   "metadata": {},
   "outputs": [
    {
     "name": "stdout",
     "output_type": "stream",
     "text": [
      "Users inserted successfully.\n"
     ]
    }
   ],
   "source": [
    "user = User(50)\n",
    "user.tosql(conn_str)"
   ]
  },
  {
   "cell_type": "code",
   "execution_count": 10,
   "metadata": {},
   "outputs": [
    {
     "name": "stdout",
     "output_type": "stream",
     "text": [
      "Project and tasks inserted successfully.\n",
      "Project and tasks inserted successfully.\n",
      "Project and tasks inserted successfully.\n",
      "Project and tasks inserted successfully.\n",
      "Project and tasks inserted successfully.\n",
      "Project and tasks inserted successfully.\n",
      "Project and tasks inserted successfully.\n",
      "Project and tasks inserted successfully.\n",
      "Project and tasks inserted successfully.\n",
      "Project and tasks inserted successfully.\n"
     ]
    }
   ],
   "source": [
    "project1 = Project('project1', '2024-03-12', 15, 9, workday=31)\n",
    "project1.tosql(conn_str)\n",
    "\n",
    "project2 = Project('project2', '2024-03-25', 32, 12, workday=63)\n",
    "project2.tosql(conn_str)\n",
    "\n",
    "project3 = Project('project3', '2024-04-01', 28, 16, workday=127)\n",
    "project3.tosql(conn_str)\n",
    "\n",
    "project4 = Project('project4', '2024-04-08', 12, 7, workday=31)\n",
    "project4.tosql(conn_str)\n",
    "\n",
    "project5 = Project('project5', '2024-03-18', 25, 14, workday=63)\n",
    "project5.tosql(conn_str)\n",
    "\n",
    "project6 = Project('project6', '2024-04-22', 42, 18, workday=127)\n",
    "project6.tosql(conn_str)\n",
    "\n",
    "project7 = Project('project7', '2024-04-29', 16, 8, workday=63)\n",
    "project7.tosql(conn_str)\n",
    "\n",
    "project8 = Project('project8', '2024-05-06', 17, 12, workday=31)\n",
    "project8.tosql(conn_str)\n",
    "\n",
    "project9 = Project('project9', '2024-05-13', 31, 13, workday=63)\n",
    "project9.tosql(conn_str)\n",
    "\n",
    "project10 = Project('project10', '2024-05-27', 20, 11, workday=127)\n",
    "project10.tosql(conn_str)"
   ]
  }
 ],
 "metadata": {
  "kernelspec": {
   "display_name": "Python 3",
   "language": "python",
   "name": "python3"
  },
  "language_info": {
   "codemirror_mode": {
    "name": "ipython",
    "version": 3
   },
   "file_extension": ".py",
   "mimetype": "text/x-python",
   "name": "python",
   "nbconvert_exporter": "python",
   "pygments_lexer": "ipython3",
   "version": "3.11.8"
  }
 },
 "nbformat": 4,
 "nbformat_minor": 2
}

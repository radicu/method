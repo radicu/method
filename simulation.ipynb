{
 "cells": [
  {
   "cell_type": "code",
   "execution_count": 17,
   "metadata": {},
   "outputs": [],
   "source": [
    "import pandas as pd \n",
    "import numpy as np\n",
    "from datetime import datetime, timedelta\n",
    "from src.utils import isWorkday, estEndDate, isParentCompleted, isWeekend, calculate_depth, delay, assessWeather, isHeavyWeather\n",
    "import pyodbc\n",
    "import random\n",
    "from tqdm import tqdm"
   ]
  },
  {
   "cell_type": "code",
   "execution_count": 18,
   "metadata": {},
   "outputs": [
    {
     "data": {
      "text/plain": [
       "'DRIVER={ODBC Driver 17 for SQL Server};SERVER=LAPTOP-2NSE0JH1\\\\SQLEXPRESS;DATABASE=dummy;Trusted_Connection=yes;'"
      ]
     },
     "execution_count": 18,
     "metadata": {},
     "output_type": "execute_result"
    }
   ],
   "source": [
    "server = 'LAPTOP-2NSE0JH1\\SQLEXPRESS'\n",
    "database = 'dummy'\n",
    "\n",
    "conn_str = f'DRIVER={{ODBC Driver 17 for SQL Server}};SERVER={server};DATABASE={database};Trusted_Connection=yes;'\n",
    "conn_str"
   ]
  },
  {
   "cell_type": "code",
   "execution_count": 19,
   "metadata": {},
   "outputs": [
    {
     "name": "stderr",
     "output_type": "stream",
     "text": [
      "C:\\Users\\Acer\\AppData\\Local\\Temp\\ipykernel_1796\\3525686836.py:7: UserWarning: pandas only supports SQLAlchemy connectable (engine/connection) or database string URI or sqlite3 DBAPI2 connection. Other DBAPI2 objects are not tested. Please consider using SQLAlchemy.\n",
      "  tasks = pd.read_sql(task_query, conn)\n",
      "C:\\Users\\Acer\\AppData\\Local\\Temp\\ipykernel_1796\\3525686836.py:10: UserWarning: pandas only supports SQLAlchemy connectable (engine/connection) or database string URI or sqlite3 DBAPI2 connection. Other DBAPI2 objects are not tested. Please consider using SQLAlchemy.\n",
      "  projects = pd.read_sql(project_query, conn)\n"
     ]
    }
   ],
   "source": [
    "try:\n",
    "    conn = pyodbc.connect(conn_str)\n",
    "\n",
    "    cursor = conn.cursor()\n",
    "\n",
    "    task_query = \"SELECT * FROM Task\"\n",
    "    tasks = pd.read_sql(task_query, conn)\n",
    "\n",
    "    project_query = \"SELECT * FROM Project\"\n",
    "    projects = pd.read_sql(project_query, conn)\n",
    "\n",
    "    conn.close()\n",
    "\n",
    "except pyodbc.Error as e:\n",
    "    print(\"Error connecting to SQL Server:\", e)"
   ]
  },
  {
   "cell_type": "code",
   "execution_count": 20,
   "metadata": {},
   "outputs": [],
   "source": [
    "# tasks = pd.read_csv('data/task_10_2020.csv')\n",
    "# projects = pd.read_csv('data/project_10_2020.csv')"
   ]
  },
  {
   "cell_type": "code",
   "execution_count": 21,
   "metadata": {},
   "outputs": [],
   "source": [
    "tasks['ParentTaskID'] = tasks['ParentTaskID'].astype('Int64') \n",
    "tasks['StartDate'] = pd.to_datetime(tasks['StartDate'])\n",
    "tasks['EndDate'] = pd.to_datetime(tasks['EndDate'])\n",
    "tasks['ActualStartDate'] = pd.to_datetime(tasks['ActualStartDate'])\n",
    "tasks['ActualEndDate'] = pd.to_datetime(tasks['ActualEndDate'])"
   ]
  },
  {
   "cell_type": "code",
   "execution_count": 22,
   "metadata": {},
   "outputs": [],
   "source": [
    "weather_all = pd.read_csv('data/weather_all.csv')\n",
    "weather_all['datetime'] = pd.to_datetime(weather_all['datetime'])\n",
    "weather_all = weather_all.set_index('datetime')"
   ]
  },
  {
   "cell_type": "code",
   "execution_count": 23,
   "metadata": {},
   "outputs": [],
   "source": [
    "tasks['WeatherAssessment'] = tasks.apply(lambda x: assessWeather(x['StartDate'],x['EndDate'],projects.loc[projects['ID']==x['ProjectID']]['Workday'].iloc[0], weather_all),axis=1)"
   ]
  },
  {
   "cell_type": "code",
   "execution_count": 24,
   "metadata": {},
   "outputs": [],
   "source": [
    "# tasks.to_csv('data/task_30_2018.csv', index=False)\n",
    "# projects.to_csv('data/project_30_2018.csv', index=False)"
   ]
  },
  {
   "cell_type": "code",
   "execution_count": 25,
   "metadata": {},
   "outputs": [
    {
     "name": "stderr",
     "output_type": "stream",
     "text": [
      "Progress:   0%|          | 0/10350 [00:00<?, ?it/s]"
     ]
    },
    {
     "name": "stderr",
     "output_type": "stream",
     "text": [
      "Progress: 100%|██████████| 10350/10350 [31:11<00:00,  5.53it/s]"
     ]
    },
    {
     "name": "stdout",
     "output_type": "stream",
     "text": [
      "Complete all task at 2023-03-10 00:00:00\n"
     ]
    },
    {
     "name": "stderr",
     "output_type": "stream",
     "text": [
      "\n"
     ]
    }
   ],
   "source": [
    "curr_date = tasks['StartDate'].min()\n",
    "task_report = []\n",
    "project_report = []\n",
    "\n",
    "total_tasks = len(tasks)\n",
    "pbar = tqdm(total=total_tasks, desc=\"Progress\")\n",
    "\n",
    "while ~tasks['Status'].eq('Completed').all():\n",
    "    task_today = tasks[(tasks['StartDate'] <= curr_date) & (tasks['Status']!='Completed')]['ID'].tolist()\n",
    "    heavy_weather = isHeavyWeather(curr_date, weather_all)\n",
    "\n",
    "    for idx in task_today:\n",
    "        task = tasks.loc[tasks['ID']==idx].iloc[0]\n",
    "        workday = projects.loc[projects['ID'] == task['ProjectID']].iloc[0]['Workday']\n",
    "        if isParentCompleted(task, tasks) and isWorkday(curr_date, workday):\n",
    "            if task['Status'] == 'Not Started':\n",
    "                task['ActualStartDate'] = str(curr_date)\n",
    "                task['Status'] = 'On Progress'\n",
    "                \n",
    "            if delay(task, tasks, task_today, curr_date, heavy_weather):\n",
    "                task['Progress'] += 0\n",
    "            else:\n",
    "                task['Progress'] += 1\n",
    "                \n",
    "            if task['Progress'] >= task['Duration']:\n",
    "                task['ActualEndDate'] = curr_date\n",
    "                task['Status'] = 'Completed'\n",
    "                pbar.update(1)\n",
    "            \n",
    "            if curr_date > task['EndDate'] and task['Status'] == 'On Progress':\n",
    "                task['Status'] = 'Delayed'\n",
    "                task['Priority'] = 'Critical'\n",
    "            \n",
    "            tasks.loc[tasks['ID']==idx] = task.values\n",
    "            \n",
    "            task_report.append({\n",
    "                'Date': curr_date,\n",
    "                'ID': task['ID'],\n",
    "                'Name': task['Name'],\n",
    "                'StartDate': task['StartDate'],\n",
    "                'EndDate': task['EndDate'],\n",
    "                'Cost': task['Cost'],\n",
    "                'Priority': task['Priority'],\n",
    "                'Progress': task['Progress'],\n",
    "                'ProjectID' : task['ProjectID'],\n",
    "                'Status': task['Status'],\n",
    "                'Duration': task['Duration'],\n",
    "                'Trade' : task['Trade'],\n",
    "                'IsBadWeather' : heavy_weather,\n",
    "                'WeatherAssessment' : task['WeatherAssessment'],\n",
    "                'ActualStartDate': task['ActualStartDate'],\n",
    "                'ActualEndDate': task['ActualEndDate']\n",
    "            })\n",
    "            \n",
    "    for pid in projects['ID'].tolist():\n",
    "        project_task = tasks[tasks['ProjectID']==pid]\n",
    "        if ~project_task['Status'].eq('Not Started').all() and ~project_task['Status'].eq('Completed').all():\n",
    "            project_report.append({\n",
    "                'Date' : curr_date,\n",
    "                'ProjectID' : pid,\n",
    "                'TotalTask' : len(project_task),\n",
    "                'StartedTask' : len(project_task[project_task['Status']!='Not Started']),\n",
    "                'OnGoingTask' : len(project_task[(project_task['Status']!='Not Started') & (project_task['Status']!='Completed')]),\n",
    "                'DelayedTask' : len(project_task[(project_task['Status']=='Delayed')]),\n",
    "                'CompletedTask' : len(project_task[(project_task['Status']=='Completed')]),\n",
    "                'WorkDay' : project_task[(project_task['Status']!='Not Started')]['Progress'].sum(),\n",
    "                'TotalSpent' : project_task[(project_task['Status']=='Completed')]['Cost'].sum(),\n",
    "                'IsBadWeather' : heavy_weather\n",
    "            })\n",
    "\n",
    "    curr_date += timedelta(days=1)\n",
    "\n",
    "task_reports = pd.DataFrame(task_report)\n",
    "project_reports = pd.DataFrame(project_report)\n",
    "task_reports['ActualEndDate'] = task_reports.groupby('ID')['ActualEndDate'].bfill()\n",
    "task_ns = tasks.copy()\n",
    "task_ns['ActualStartDate'] = task_ns['StartDate']\n",
    "task_ns['Date'] = task_ns['ActualStartDate']\n",
    "task_ns['Priority'] = task_ns.apply(lambda x: 'Critical' if pd.isna(x['ParentTaskID']) else 'Normal', axis=1)\n",
    "task_ns['Progress'] = 0\n",
    "task_ns['Status'] = 'Not Started'\n",
    "task_ns['IsBadWeather'] = 0\n",
    "\n",
    "task_ns.drop(['ParentTaskID', 'AssigneeID', 'CreateDate'],axis=1, inplace=True)\n",
    "task_reports = pd.concat([task_reports, task_ns]).reset_index(drop=True)\n",
    "\n",
    "project_dates = tasks.groupby('ProjectID').agg({'StartDate': 'min', 'EndDate': 'max', 'ActualStartDate':'min','ActualEndDate':'max'}).reset_index()\n",
    "project_dates['WeatherAssessment'] = project_dates.apply(lambda x: assessWeather(x['StartDate'],x['EndDate'],projects.loc[projects['ID']==x['ProjectID']]['Workday'].iloc[0],weather_all),axis=1)\n",
    "project_reports = pd.merge(project_reports, project_dates, on='ProjectID', how='left')\n",
    "project_ns = project_reports.copy()\n",
    "project_ns = project_reports.groupby('ProjectID').agg({'TotalTask':'max','StartDate':'max','EndDate':'max','ActualStartDate':'max','ActualEndDate':'max','WeatherAssessment':'mean'}).reset_index()\n",
    "project_ns['Date'] = project_ns['ActualStartDate']\n",
    "project_ns[['StartedTask','OnGoingTask','DelayedTask','CompletedTask', 'WorkDay', 'TotalSpent','IsBadWeather']] = 0\n",
    "project_reports = pd.concat([project_reports,project_ns]).reset_index(drop=True)\n",
    "\n",
    "print(f'Complete all task at {curr_date}')\n",
    "pbar.close()"
   ]
  },
  {
   "cell_type": "code",
   "execution_count": 30,
   "metadata": {},
   "outputs": [],
   "source": [
    "task_reports.to_csv('data/task_report_30_2018.csv',index=False)\n",
    "project_reports.to_csv('data/project_report_30_2018.csv',index=False)"
   ]
  }
 ],
 "metadata": {
  "kernelspec": {
   "display_name": "angusta",
   "language": "python",
   "name": "python3"
  },
  "language_info": {
   "codemirror_mode": {
    "name": "ipython",
    "version": 3
   },
   "file_extension": ".py",
   "mimetype": "text/x-python",
   "name": "python",
   "nbconvert_exporter": "python",
   "pygments_lexer": "ipython3",
   "version": "3.11.8"
  }
 },
 "nbformat": 4,
 "nbformat_minor": 2
}

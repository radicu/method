{
 "cells": [
  {
   "cell_type": "code",
   "execution_count": 1,
   "metadata": {},
   "outputs": [],
   "source": [
    "import pandas as pd \n",
    "import numpy as np\n",
    "from datetime import datetime, timedelta\n",
    "from src.utils import isWorkday, estEndDate, isParentCompleted, isWeekend, calculate_depth, delay\n",
    "import pyodbc\n",
    "import random"
   ]
  },
  {
   "cell_type": "code",
   "execution_count": 2,
   "metadata": {},
   "outputs": [
    {
     "data": {
      "text/plain": [
       "'DRIVER={ODBC Driver 17 for SQL Server};SERVER=LAPTOP-2NSE0JH1\\\\SQLEXPRESS;DATABASE=dummy;Trusted_Connection=yes;'"
      ]
     },
     "execution_count": 2,
     "metadata": {},
     "output_type": "execute_result"
    }
   ],
   "source": [
    "server = 'LAPTOP-2NSE0JH1\\SQLEXPRESS'\n",
    "database = 'dummy'\n",
    "\n",
    "conn_str = f'DRIVER={{ODBC Driver 17 for SQL Server}};SERVER={server};DATABASE={database};Trusted_Connection=yes;'\n",
    "conn_str"
   ]
  },
  {
   "cell_type": "code",
   "execution_count": null,
   "metadata": {},
   "outputs": [],
   "source": [
    "try:\n",
    "    conn = pyodbc.connect(conn_str)\n",
    "\n",
    "    cursor = conn.cursor()\n",
    "\n",
    "    task_query = \"SELECT * FROM Task\"\n",
    "    tasks = pd.read_sql(task_query, conn)\n",
    "\n",
    "    project_query = \"SELECT * FROM Project\"\n",
    "    projects = pd.read_sql(project_query, conn)\n",
    "\n",
    "    conn.close()\n",
    "\n",
    "except pyodbc.Error as e:\n",
    "    print(\"Error connecting to SQL Server:\", e)"
   ]
  },
  {
   "cell_type": "code",
   "execution_count": 3,
   "metadata": {},
   "outputs": [],
   "source": [
    "tasks = pd.read_csv('data/task_10.csv')\n",
    "projects = pd.read_csv('data/project_10.csv')"
   ]
  },
  {
   "cell_type": "code",
   "execution_count": 4,
   "metadata": {},
   "outputs": [],
   "source": [
    "tasks['ParentTaskID'] = tasks['ParentTaskID'].astype('Int64') \n",
    "tasks['StartDate'] = pd.to_datetime(tasks['StartDate'])\n",
    "tasks['EndDate'] = pd.to_datetime(tasks['EndDate'])\n",
    "tasks['ActualStartDate'] = pd.to_datetime(tasks['ActualStartDate'])\n",
    "tasks['ActualEndDate'] = pd.to_datetime(tasks['ActualEndDate'])"
   ]
  },
  {
   "cell_type": "code",
   "execution_count": null,
   "metadata": {},
   "outputs": [],
   "source": [
    "# tasks.to_csv('data/task_10.csv', index=False)\n",
    "# projects.to_csv('data/project_10.csv', index=False)"
   ]
  },
  {
   "cell_type": "code",
   "execution_count": 5,
   "metadata": {},
   "outputs": [
    {
     "name": "stdout",
     "output_type": "stream",
     "text": [
      "Complete all task at 2023-09-02 00:00:00\n"
     ]
    }
   ],
   "source": [
    "curr_date = tasks['StartDate'].min()\n",
    "task_report = []\n",
    "project_report = []\n",
    "\n",
    "while ~tasks['Status'].eq('Completed').all():\n",
    "    task_today = tasks[(tasks['StartDate'] <= curr_date) & (tasks['Status']!='Completed')]['ID'].tolist()\n",
    "\n",
    "    for idx in task_today:\n",
    "        task = tasks.loc[tasks['ID']==idx].iloc[0]\n",
    "        workday = projects.loc[projects['ID'] == task['ProjectID']].iloc[0]['Workday']\n",
    "        if isParentCompleted(task, tasks) and isWorkday(curr_date, workday):\n",
    "            if task['Status'] == 'Not Started':\n",
    "                task['ActualStartDate'] = str(curr_date)\n",
    "                task['Status'] = 'On Progress'\n",
    "                \n",
    "            if delay(task, tasks, task_today, curr_date):\n",
    "                task['Progress'] += 0\n",
    "            else:\n",
    "                task['Progress'] += 1\n",
    "                \n",
    "            if task['Progress'] >= task['Duration']:\n",
    "                task['ActualEndDate'] = curr_date\n",
    "                task['Status'] = 'Completed'\n",
    "            \n",
    "            if curr_date > task['EndDate'] and task['Status'] == 'On Progress':\n",
    "                task['Status'] = 'Delayed'\n",
    "                task['Priority'] = 'Critical'\n",
    "            \n",
    "            tasks.loc[tasks['ID']==idx] = task.values\n",
    "            \n",
    "            task_report.append({\n",
    "                'Date': curr_date,\n",
    "                'ID': task['ID'],\n",
    "                'Name': task['Name'],\n",
    "                'StartDate': task['StartDate'],\n",
    "                'EndDate': task['EndDate'],\n",
    "                'Cost': task['Cost'],\n",
    "                'Priority': task['Priority'],\n",
    "                'Progress': task['Progress'],\n",
    "                'ProjectID' : task['ProjectID'],\n",
    "                'Status': task['Status'],\n",
    "                'Duration': task['Duration'],\n",
    "                'Trade' : task['Trade'],\n",
    "                'ActualStartDate': task['ActualStartDate'],\n",
    "                'ActualEndDate': task['ActualEndDate']\n",
    "            })\n",
    "            \n",
    "    for pid in projects['ID'].tolist():\n",
    "        project_task = tasks[tasks['ProjectID']==pid]\n",
    "        if ~project_task['Status'].eq('Not Started').all() and ~project_task['Status'].eq('Completed').all():\n",
    "            project_report.append({\n",
    "                'Date' : curr_date,\n",
    "                'ProjectID' : pid,\n",
    "                'TotalTask' : len(project_task),\n",
    "                'StartedTask' : len(project_task[project_task['Status']!='Not Started']),\n",
    "                'OnGoingTask' : len(project_task[(project_task['Status']!='Not Started') & (project_task['Status']!='Completed')]),\n",
    "                'DelayedTask' : len(project_task[(project_task['Status']=='Delayed')]),\n",
    "                'CompletedTask' : len(project_task[(project_task['Status']=='Completed')]),\n",
    "                'WorkDay' : project_task[(project_task['Status']!='Not Started')]['Progress'].sum(),\n",
    "                'TotalSpent' : project_task[(project_task['Status']=='Completed')]['Cost'].sum()\n",
    "            })\n",
    "\n",
    "    curr_date += timedelta(days=1)\n",
    "\n",
    "task_reports = pd.DataFrame(task_report)\n",
    "project_reports = pd.DataFrame(project_report)\n",
    "task_reports['ActualEndDate'] = task_reports.groupby('ID')['ActualEndDate'].bfill()\n",
    "task_ns = tasks.copy()\n",
    "task_ns['ActualStartDate'] = task_ns['StartDate']\n",
    "task_ns['Date'] = task_ns['ActualStartDate']\n",
    "task_ns['Priority'] = task_ns.apply(lambda x: 'Critical' if pd.isna(x['ParentTaskID']) else 'Normal', axis=1)\n",
    "task_ns['Progress'] = 0\n",
    "task_ns['Status'] = 'Not Started'\n",
    "task_ns.drop(['ParentTaskID', 'AssigneeID', 'CreateDate'],axis=1, inplace=True)\n",
    "task_reports = pd.concat([task_reports, task_ns]).reset_index(drop=True)\n",
    "\n",
    "project_dates = tasks.groupby('ProjectID').agg({'StartDate': 'min', 'EndDate': 'max', 'ActualStartDate':'min','ActualEndDate':'max'}).reset_index()\n",
    "project_reports = pd.merge(project_reports, project_dates, on='ProjectID', how='left')\n",
    "project_ns = project_reports.copy()\n",
    "project_ns = project_reports.groupby('ProjectID').agg({'TotalTask':'max','StartDate':'max','EndDate':'max','ActualStartDate':'max','ActualEndDate':'max'}).reset_index()\n",
    "project_ns['Date'] = project_ns['ActualStartDate']\n",
    "project_ns[['StartedTask','OnGoingTask','DelayedTask','CompletedTask', 'WorkDay', 'TotalSpent']] = 0\n",
    "project_reports = pd.concat([project_reports,project_ns]).reset_index(drop=True)\n",
    "\n",
    "print(f'Complete all task at {curr_date}')"
   ]
  },
  {
   "cell_type": "code",
   "execution_count": null,
   "metadata": {},
   "outputs": [],
   "source": [
    "# task_reports.to_csv('data/task_report_30_4.csv',index=False)\n",
    "# project_reports.to_csv('data/project_report_30_4.csv',index=False)"
   ]
  }
 ],
 "metadata": {
  "kernelspec": {
   "display_name": "angusta",
   "language": "python",
   "name": "python3"
  },
  "language_info": {
   "codemirror_mode": {
    "name": "ipython",
    "version": 3
   },
   "file_extension": ".py",
   "mimetype": "text/x-python",
   "name": "python",
   "nbconvert_exporter": "python",
   "pygments_lexer": "ipython3",
   "version": "3.11.8"
  }
 },
 "nbformat": 4,
 "nbformat_minor": 2
}

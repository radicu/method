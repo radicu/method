{
 "cells": [
  {
   "cell_type": "code",
   "execution_count": 126,
   "metadata": {},
   "outputs": [],
   "source": [
    "import pandas as pd \n",
    "import numpy as np\n",
    "from datetime import datetime, timedelta\n",
    "from utils import isWorkday, estEndDate\n",
    "import pyodbc\n",
    "import random"
   ]
  },
  {
   "cell_type": "code",
   "execution_count": 127,
   "metadata": {},
   "outputs": [
    {
     "data": {
      "text/plain": [
       "'DRIVER={ODBC Driver 17 for SQL Server};SERVER=LAPTOP-2NSE0JH1\\\\SQLEXPRESS;DATABASE=dummy;Trusted_Connection=yes;'"
      ]
     },
     "execution_count": 127,
     "metadata": {},
     "output_type": "execute_result"
    }
   ],
   "source": [
    "server = 'LAPTOP-2NSE0JH1\\SQLEXPRESS'\n",
    "database = 'dummy'\n",
    "\n",
    "conn_str = f'DRIVER={{ODBC Driver 17 for SQL Server}};SERVER={server};DATABASE={database};Trusted_Connection=yes;'\n",
    "conn_str"
   ]
  },
  {
   "cell_type": "code",
   "execution_count": 238,
   "metadata": {},
   "outputs": [
    {
     "name": "stderr",
     "output_type": "stream",
     "text": [
      "C:\\Users\\Acer\\AppData\\Local\\Temp\\ipykernel_1932\\137494329.py:10: UserWarning: pandas only supports SQLAlchemy connectable (engine/connection) or database string URI or sqlite3 DBAPI2 connection. Other DBAPI2 objects are not tested. Please consider using SQLAlchemy.\n",
      "  tasks = pd.read_sql(task_query, conn)\n",
      "C:\\Users\\Acer\\AppData\\Local\\Temp\\ipykernel_1932\\137494329.py:14: UserWarning: pandas only supports SQLAlchemy connectable (engine/connection) or database string URI or sqlite3 DBAPI2 connection. Other DBAPI2 objects are not tested. Please consider using SQLAlchemy.\n",
      "  projects = pd.read_sql(project_query, conn)\n"
     ]
    }
   ],
   "source": [
    "try:\n",
    "    # Establish connection\n",
    "    conn = pyodbc.connect(conn_str)\n",
    "\n",
    "    # Create a cursor\n",
    "    cursor = conn.cursor()\n",
    "\n",
    "    # Execute query to extract data from Task table\n",
    "    task_query = \"SELECT * FROM Task\"\n",
    "    tasks = pd.read_sql(task_query, conn)\n",
    "\n",
    "    # Execute query to extract data from Project table\n",
    "    project_query = \"SELECT * FROM Project\"\n",
    "    projects = pd.read_sql(project_query, conn)\n",
    "\n",
    "    # Close connection\n",
    "    conn.close()\n",
    "\n",
    "except pyodbc.Error as e:\n",
    "    print(\"Error connecting to SQL Server:\", e)"
   ]
  },
  {
   "cell_type": "code",
   "execution_count": 239,
   "metadata": {},
   "outputs": [],
   "source": [
    "tasks['ParentTaskID'] = tasks['ParentTaskID'].astype('Int64')  # Convert to nullable integer\n",
    "tasks['ActualStartDate'] = tasks['ActualStartDate'].astype('object')  # Convert to object\n",
    "tasks['ActualEndDate'] = tasks['ActualEndDate'].astype('object')  # Convert to object"
   ]
  },
  {
   "cell_type": "code",
   "execution_count": 240,
   "metadata": {},
   "outputs": [],
   "source": [
    "# tasks.to_csv('task_10.csv', index=False)\n",
    "# projects.to_csv('project_10.csv', index=False)"
   ]
  },
  {
   "cell_type": "code",
   "execution_count": 241,
   "metadata": {},
   "outputs": [],
   "source": [
    "def isParentCompleted(task):\n",
    "    if pd.isnull(task['ParentTaskID']):\n",
    "        return True\n",
    "    else:\n",
    "        parent_task = tasks[tasks['ID'] == task['ParentTaskID']].iloc[0]\n",
    "        return parent_task['Status'] == 'Completed'\n",
    "    \n",
    "def delay(task):\n",
    "    if task['Priority'] == 'Critical':\n",
    "        return random.randint(1,14) == 1\n",
    "    else :\n",
    "        return random.randint(1,10) == 1"
   ]
  },
  {
   "cell_type": "code",
   "execution_count": 242,
   "metadata": {},
   "outputs": [
    {
     "name": "stdout",
     "output_type": "stream",
     "text": [
      "Complete all task at 2024-07-08\n"
     ]
    }
   ],
   "source": [
    "curr_date = datetime.strptime('2024-03-12','%Y-%m-%d').date()\n",
    "task_report = []\n",
    "project_report = []\n",
    "\n",
    "while ~tasks['Status'].eq('Completed').all():\n",
    "    task_today = tasks[(tasks['StartDate'] <= curr_date) & (tasks['Status']!='Completed')]['ID'].tolist()\n",
    "\n",
    "    for idx in task_today:\n",
    "        task = tasks.loc[tasks['ID']==idx].iloc[0]\n",
    "        workday = projects.loc[projects['ID'] == task['ProjectID']].iloc[0]['Workday']\n",
    "        if isParentCompleted(task) and isWorkday(curr_date, workday):\n",
    "            if task['Status'] == 'Not Started':\n",
    "                task['ActualStartDate'] = str(curr_date)\n",
    "                task['Status'] = 'On Progress'\n",
    "                \n",
    "            if delay(task):\n",
    "                task['Progress'] += 0\n",
    "            else:\n",
    "                task['Progress'] += 1\n",
    "                \n",
    "            if task['Progress'] >= task['Duration']:\n",
    "                task['ActualEndDate'] = curr_date\n",
    "                task['Status'] = 'Completed'\n",
    "            \n",
    "            if curr_date >= task['EndDate'] and task['Status'] == 'On Progress':\n",
    "                task['Status'] = 'Delayed'\n",
    "                task['Priority'] = 'Critical'\n",
    "            \n",
    "            tasks.loc[tasks['ID']==idx] = task.values\n",
    "            \n",
    "            task_report.append({\n",
    "                'Date': curr_date,\n",
    "                'ID': task['ID'],\n",
    "                'Name': task['Name'],\n",
    "                'StartDate': task['StartDate'],\n",
    "                'EndDate': task['EndDate'],\n",
    "                'Cost': task['Cost'],\n",
    "                'Priority': task['Priority'],\n",
    "                'Progress': task['Progress'],\n",
    "                'ProjectID' : task['ProjectID'],\n",
    "                'Status': task['Status'],\n",
    "                'Duration': task['Duration'],\n",
    "                'ActualStartDate': task['ActualStartDate'],\n",
    "                'ActualEndDate': task['ActualEndDate']\n",
    "            })\n",
    "            \n",
    "    for pid in projects['ID'].tolist():\n",
    "        project_task = tasks[tasks['ProjectID']==pid]\n",
    "        if ~project_task['Status'].eq('Not Started').all() and ~project_task['Status'].eq('Completed').all():\n",
    "            project_report.append({\n",
    "                'Date' : curr_date,\n",
    "                'ProjectID' : pid,\n",
    "                'TotalTask' : len(project_task),\n",
    "                'StartedTask' : len(project_task[project_task['Status']!='Not Started']),\n",
    "                'OnGoingTask' : len(project_task[(project_task['Status']!='Not Started') & (project_task['Status']!='Completed')]),\n",
    "                'DelayedTask' : len(project_task[(project_task['Status']=='Delayed')]),\n",
    "                'Completedtask' : len(project_task[(project_task['Status']=='Completed')]),\n",
    "                'WorkDay' : project_task[(project_task['Status']!='Not Started')]['Progress'].sum(),\n",
    "                'TotalSpent' : project_task[(project_task['Status']=='Completed')]['Cost'].sum()\n",
    "            })\n",
    "\n",
    "    curr_date += timedelta(days=1)\n",
    "\n",
    "task_reports = pd.DataFrame(task_report)\n",
    "project_reports = pd.DataFrame(project_report)\n",
    "task_reports['ActualEndDate'] = task_reports.groupby('ID')['ActualEndDate'].bfill()\n",
    "project_dates = tasks.groupby('ProjectID').agg({'StartDate': 'min', 'EndDate': 'max', 'ActualStartDate':'min','ActualEndDate':'max'}).reset_index()\n",
    "project_reports = pd.merge(project_reports, project_dates, on='ProjectID', how='left')\n",
    "\n",
    "print(f'Complete all task at {curr_date}')"
   ]
  },
  {
   "cell_type": "code",
   "execution_count": 247,
   "metadata": {},
   "outputs": [],
   "source": [
    "task_reports.to_csv('task_report_10.csv',index=False)\n",
    "project_reports.to_csv('project_report_10.csv',index=False)"
   ]
  },
  {
   "cell_type": "code",
   "execution_count": null,
   "metadata": {},
   "outputs": [],
   "source": []
  }
 ],
 "metadata": {
  "kernelspec": {
   "display_name": "angusta",
   "language": "python",
   "name": "python3"
  },
  "language_info": {
   "codemirror_mode": {
    "name": "ipython",
    "version": 3
   },
   "file_extension": ".py",
   "mimetype": "text/x-python",
   "name": "python",
   "nbconvert_exporter": "python",
   "pygments_lexer": "ipython3",
   "version": "3.11.8"
  }
 },
 "nbformat": 4,
 "nbformat_minor": 2
}

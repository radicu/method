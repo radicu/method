{
 "cells": [
  {
   "cell_type": "code",
   "execution_count": 1,
   "metadata": {},
   "outputs": [],
   "source": [
    "import pandas as pd \n",
    "import numpy as np\n",
    "from datetime import datetime, timedelta\n",
    "from src.utils import isWorkday, estEndDate, isParentCompleted, isWeekend, calcLength, delay, assessWeather, isHeavyWeather\n",
    "import pyodbc\n",
    "import random\n",
    "from tqdm import tqdm"
   ]
  },
  {
   "cell_type": "code",
   "execution_count": 2,
   "metadata": {},
   "outputs": [
    {
     "name": "stderr",
     "output_type": "stream",
     "text": [
      "C:\\Users\\Acer\\AppData\\Local\\Temp\\ipykernel_19648\\2839744962.py:12: UserWarning: pandas only supports SQLAlchemy connectable (engine/connection) or database string URI or sqlite3 DBAPI2 connection. Other DBAPI2 objects are not tested. Please consider using SQLAlchemy.\n",
      "  tasks = pd.read_sql(task_query, conn)\n",
      "C:\\Users\\Acer\\AppData\\Local\\Temp\\ipykernel_19648\\2839744962.py:15: UserWarning: pandas only supports SQLAlchemy connectable (engine/connection) or database string URI or sqlite3 DBAPI2 connection. Other DBAPI2 objects are not tested. Please consider using SQLAlchemy.\n",
      "  projects = pd.read_sql(project_query, conn)\n"
     ]
    }
   ],
   "source": [
    "server = 'LAPTOP-2NSE0JH1\\SQLEXPRESS'\n",
    "database = 'dummy'\n",
    "\n",
    "conn_str = f'DRIVER={{ODBC Driver 17 for SQL Server}};SERVER={server};DATABASE={database};Trusted_Connection=yes;'\n",
    "\n",
    "try:\n",
    "    conn = pyodbc.connect(conn_str)\n",
    "\n",
    "    cursor = conn.cursor()\n",
    "\n",
    "    task_query = \"SELECT * FROM Task\"\n",
    "    tasks = pd.read_sql(task_query, conn)\n",
    "\n",
    "    project_query = \"SELECT * FROM Project\"\n",
    "    projects = pd.read_sql(project_query, conn)\n",
    "\n",
    "    conn.close()\n",
    "\n",
    "except pyodbc.Error as e:\n",
    "    print(\"Error connecting to SQL Server:\", e)"
   ]
  },
  {
   "cell_type": "code",
   "execution_count": 3,
   "metadata": {},
   "outputs": [
    {
     "data": {
      "text/plain": [
       "(datetime.date(2016, 1, 1), datetime.date(2020, 6, 19))"
      ]
     },
     "execution_count": 3,
     "metadata": {},
     "output_type": "execute_result"
    }
   ],
   "source": [
    "tasks['StartDate'].min(),tasks['StartDate'].max()"
   ]
  },
  {
   "cell_type": "code",
   "execution_count": 4,
   "metadata": {},
   "outputs": [
    {
     "name": "stdout",
     "output_type": "stream",
     "text": [
      "1 402 115\n",
      "2 412 111\n",
      "3 413 135\n",
      "4 313 136\n",
      "5 483 120\n",
      "6 441 111\n",
      "7 658 115\n",
      "8 343 140\n",
      "9 287 93\n",
      "10 498 96\n",
      "11 321 116\n",
      "12 260 138\n",
      "13 279 144\n",
      "14 550 136\n",
      "15 340 149\n",
      "16 328 109\n",
      "17 398 123\n",
      "18 322 93\n",
      "19 468 141\n",
      "20 327 110\n",
      "21 334 131\n",
      "22 523 97\n",
      "23 332 98\n",
      "24 369 141\n",
      "25 579 125\n",
      "26 501 150\n",
      "27 735 140\n",
      "28 699 109\n",
      "29 293 100\n",
      "30 634 115\n",
      "31 335 130\n",
      "32 335 143\n",
      "33 288 85\n",
      "34 240 132\n",
      "35 306 147\n",
      "36 355 134\n",
      "37 594 111\n",
      "38 389 150\n",
      "39 716 132\n",
      "40 466 93\n",
      "41 297 142\n",
      "42 422 144\n",
      "43 577 108\n",
      "44 466 135\n",
      "45 595 150\n",
      "46 323 149\n",
      "47 332 98\n",
      "48 735 119\n",
      "49 348 132\n",
      "50 404 110\n",
      "51 553 150\n",
      "52 234 86\n",
      "53 267 129\n",
      "54 299 139\n",
      "55 451 139\n",
      "56 355 120\n",
      "57 570 87\n",
      "58 272 99\n",
      "59 466 117\n",
      "60 600 134\n",
      "61 251 86\n",
      "62 252 130\n",
      "63 316 132\n",
      "64 621 112\n",
      "65 308 92\n",
      "66 240 131\n",
      "67 649 91\n",
      "68 536 141\n",
      "69 435 93\n",
      "70 249 125\n",
      "71 356 95\n",
      "72 414 121\n",
      "73 591 135\n",
      "74 298 139\n",
      "75 343 113\n",
      "76 656 110\n",
      "77 582 118\n",
      "78 289 109\n",
      "79 850 138\n",
      "80 382 148\n",
      "81 362 128\n",
      "82 357 145\n",
      "83 309 139\n",
      "84 431 87\n",
      "85 393 124\n",
      "86 248 101\n",
      "87 265 129\n",
      "88 409 140\n",
      "89 321 130\n",
      "90 225 89\n",
      "91 476 125\n",
      "92 815 117\n",
      "93 508 81\n",
      "94 318 83\n",
      "95 309 111\n",
      "96 620 127\n",
      "97 700 148\n",
      "98 481 148\n",
      "99 220 80\n",
      "100 624 127\n"
     ]
    }
   ],
   "source": [
    "for pid in tasks['ProjectID'].unique():\n",
    "    curr = tasks[tasks['ProjectID']==pid]\n",
    "    print(pid, (curr['EndDate'].max()-curr['StartDate'].min()).days, len(curr))"
   ]
  },
  {
   "cell_type": "code",
   "execution_count": 5,
   "metadata": {},
   "outputs": [],
   "source": [
    "# tasks = pd.read_csv('data/10_2018/task.csv')\n",
    "# projects = pd.read_csv('data/10_2018/project.csv')"
   ]
  },
  {
   "cell_type": "code",
   "execution_count": 6,
   "metadata": {},
   "outputs": [],
   "source": [
    "weather_all = pd.read_csv('data/weather/weather_all.csv')\n",
    "weather_all['datetime'] = pd.to_datetime(weather_all['datetime'])\n",
    "weather_all = weather_all.set_index('datetime')"
   ]
  },
  {
   "cell_type": "code",
   "execution_count": 7,
   "metadata": {},
   "outputs": [],
   "source": [
    "tasks['ParentTaskID'] = tasks['ParentTaskID'].astype('Int64') \n",
    "tasks['StartDate'] = pd.to_datetime(tasks['StartDate'])\n",
    "tasks['EndDate'] = pd.to_datetime(tasks['EndDate'])\n",
    "tasks['ActualStartDate'] = pd.to_datetime(tasks['ActualStartDate'])\n",
    "tasks['ActualEndDate'] = pd.to_datetime(tasks['ActualEndDate'])\n",
    "tasks['WeatherAssessment'] = tasks.apply(lambda x: assessWeather(x['StartDate'],projects.loc[projects['ID']==x['ProjectID']]['Workday'].iloc[0], weather_all),axis=1)\n",
    "tasks['TaskLength'] = calcLength(tasks['ParentTaskID'])"
   ]
  },
  {
   "cell_type": "code",
   "execution_count": 10,
   "metadata": {},
   "outputs": [],
   "source": [
    "# tasks.to_csv('data/100_2016/task.csv', index=False)\n",
    "# projects.to_csv('data/100_2016/project.csv', index=False)"
   ]
  },
  {
   "cell_type": "code",
   "execution_count": 11,
   "metadata": {},
   "outputs": [
    {
     "name": "stderr",
     "output_type": "stream",
     "text": [
      "Progress: 100%|██████████| 12099/12099 [09:53<00:00, 20.40it/s]"
     ]
    },
    {
     "name": "stdout",
     "output_type": "stream",
     "text": [
      "Complete all task at 2020-06-24 00:00:00\n"
     ]
    },
    {
     "name": "stderr",
     "output_type": "stream",
     "text": [
      "\n"
     ]
    }
   ],
   "source": [
    "curr_date = tasks['StartDate'].min()\n",
    "task_report = []\n",
    "project_report = []\n",
    "\n",
    "total_tasks = len(tasks)\n",
    "pbar = tqdm(total=total_tasks, desc=\"Progress\")\n",
    "\n",
    "while ~tasks['Status'].eq('Completed').all():\n",
    "    task_today = tasks[(tasks['StartDate'] <= curr_date) & (tasks['Status']!='Completed')]['ID'].tolist()\n",
    "    heavy_weather = isHeavyWeather(curr_date, weather_all)\n",
    "\n",
    "    for idx in task_today:\n",
    "        task = tasks.loc[tasks['ID']==idx].iloc[0]\n",
    "        workday = projects.loc[projects['ID'] == task['ProjectID']].iloc[0]['Workday']\n",
    "        if isParentCompleted(task, tasks) and isWorkday(curr_date, workday):\n",
    "            if task['Status'] == 'Not Started':\n",
    "                task['ActualStartDate'] = str(curr_date)\n",
    "                task['Status'] = 'On Progress'\n",
    "                \n",
    "            if delay(task, task_today, curr_date, heavy_weather):\n",
    "                task['Progress'] += 0\n",
    "            else:\n",
    "                task['Progress'] += 1\n",
    "                \n",
    "            if task['Progress'] >= task['Duration']:\n",
    "                task['ActualEndDate'] = curr_date\n",
    "                task['Status'] = 'Completed'\n",
    "                pbar.update(1)\n",
    "            \n",
    "            if curr_date > task['EndDate'] and task['Status'] == 'On Progress':\n",
    "                task['Status'] = 'Delayed'\n",
    "                task['Priority'] = 'Critical'\n",
    "            \n",
    "            tasks.loc[tasks['ID']==idx] = task.values\n",
    "            \n",
    "            task_report.append({\n",
    "                'Date': curr_date,\n",
    "                'ID': task['ID'],\n",
    "                'Name': task['Name'],\n",
    "                'StartDate': task['StartDate'],\n",
    "                'EndDate': task['EndDate'],\n",
    "                'Cost': task['Cost'],\n",
    "                'Priority': task['Priority'],\n",
    "                'Progress': task['Progress'],\n",
    "                'ProjectID' : task['ProjectID'],\n",
    "                'Status': task['Status'],\n",
    "                'Duration': task['Duration'],\n",
    "                'Trade' : task['Trade'],\n",
    "                'TaskLength' : task['TaskLength'],\n",
    "                'IsBadWeather' : heavy_weather,\n",
    "                'WeatherAssessment' : task['WeatherAssessment'],\n",
    "                'ActualStartDate': task['ActualStartDate'],\n",
    "                'ActualEndDate': task['ActualEndDate']\n",
    "            })\n",
    "            \n",
    "    for pid in projects['ID'].tolist():\n",
    "        project_task = tasks[tasks['ProjectID']==pid]\n",
    "        if ~project_task['Status'].eq('Not Started').all() and ~project_task['Status'].eq('Completed').all():\n",
    "            project_report.append({\n",
    "                'Date' : curr_date,\n",
    "                'ProjectID' : pid,\n",
    "                'TotalTask' : len(project_task),\n",
    "                'StartedTask' : len(project_task[project_task['Status']!='Not Started']),\n",
    "                'OnGoingTask' : len(project_task[(project_task['Status']!='Not Started') & (project_task['Status']!='Completed')]),\n",
    "                'DelayedTask' : len(project_task[(project_task['Status']=='Delayed')]),\n",
    "                'CompletedTask' : len(project_task[(project_task['Status']=='Completed')]),\n",
    "                'WorkDay' : project_task[(project_task['Status']!='Not Started')]['Progress'].sum(),\n",
    "                'TotalSpent' : project_task[(project_task['Status']=='Completed')]['Cost'].sum(),\n",
    "                'IsBadWeather' : heavy_weather\n",
    "            })\n",
    "\n",
    "    curr_date += timedelta(days=1)\n",
    "\n",
    "task_reports = pd.DataFrame(task_report)\n",
    "project_reports = pd.DataFrame(project_report)\n",
    "task_reports['ActualEndDate'] = task_reports.groupby('ID')['ActualEndDate'].bfill()\n",
    "# task_ns = tasks.copy()\n",
    "# task_ns['ActualStartDate'] = task_ns['StartDate']\n",
    "# task_ns['Date'] = task_ns['ActualStartDate']\n",
    "# task_ns['Priority'] = task_ns.apply(lambda x: 'Critical' if pd.isna(x['ParentTaskID']) else 'Normal', axis=1)\n",
    "# task_ns['Progress'] = 0\n",
    "# task_ns['Status'] = 'Not Started'\n",
    "# task_ns['IsBadWeather'] = 0\n",
    "# task_ns.drop(['ParentTaskID', 'AssigneeID', 'CreateDate'],axis=1, inplace=True)\n",
    "# task_reports = pd.concat([task_reports, task_ns]).reset_index(drop=True)\n",
    "\n",
    "project_dates = tasks.groupby('ProjectID').agg({'StartDate': 'min', 'EndDate': 'max', 'ActualStartDate':'min','ActualEndDate':'max'}).reset_index()\n",
    "project_dates['WeatherAssessment'] = project_dates.apply(lambda x: assessWeather(x['StartDate'],projects.loc[projects['ID']==x['ProjectID']]['Workday'].iloc[0],weather_all),axis=1)\n",
    "project_reports = pd.merge(project_reports, project_dates, on='ProjectID', how='left')\n",
    "# project_ns = project_reports.copy()\n",
    "# project_ns = project_reports.groupby('ProjectID').agg({'TotalTask':'max','StartDate':'max','EndDate':'max','ActualStartDate':'max','ActualEndDate':'max','WeatherAssessment':'mean'}).reset_index()\n",
    "# project_ns['Date'] = project_ns['ActualStartDate']\n",
    "# project_ns[['StartedTask','OnGoingTask','DelayedTask','CompletedTask', 'WorkDay', 'TotalSpent','IsBadWeather']] = 0\n",
    "# project_reports = pd.concat([project_reports,project_ns]).reset_index(drop=True)\n",
    "\n",
    "print(f'Complete all task at {curr_date}')\n",
    "pbar.close()"
   ]
  },
  {
   "cell_type": "code",
   "execution_count": 18,
   "metadata": {},
   "outputs": [],
   "source": [
    "task_reports.to_csv('data/100_2016/task_report.csv',index=False)\n",
    "project_reports.to_csv('data/100_2016/project_report.csv',index=False)"
   ]
  }
 ],
 "metadata": {
  "kernelspec": {
   "display_name": "angusta",
   "language": "python",
   "name": "python3"
  },
  "language_info": {
   "codemirror_mode": {
    "name": "ipython",
    "version": 3
   },
   "file_extension": ".py",
   "mimetype": "text/x-python",
   "name": "python",
   "nbconvert_exporter": "python",
   "pygments_lexer": "ipython3",
   "version": "3.11.8"
  }
 },
 "nbformat": 4,
 "nbformat_minor": 2
}

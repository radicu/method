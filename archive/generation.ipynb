{
 "cells": [
  {
   "cell_type": "markdown",
   "metadata": {},
   "source": [
    "Author : Fadhil Umar\n",
    "\n",
    "dependencies :\n",
    "1. Python 3.11\n",
    "2. faker\n",
    "3. pyodbc"
   ]
  },
  {
   "cell_type": "code",
   "execution_count": 1,
   "metadata": {},
   "outputs": [],
   "source": [
    "from faker import Faker\n",
    "import pyodbc\n",
    "import random\n",
    "from datetime import datetime, timedelta\n",
    "\n",
    "from src.utils import isWorkday, estEndDate, User, Project"
   ]
  },
  {
   "cell_type": "code",
   "execution_count": 2,
   "metadata": {},
   "outputs": [
    {
     "data": {
      "text/plain": [
       "'DRIVER={ODBC Driver 17 for SQL Server};SERVER=LAPTOP-2NSE0JH1\\\\SQLEXPRESS;DATABASE=dummy;Trusted_Connection=yes;'"
      ]
     },
     "execution_count": 2,
     "metadata": {},
     "output_type": "execute_result"
    }
   ],
   "source": [
    "server = 'LAPTOP-2NSE0JH1\\SQLEXPRESS'\n",
    "database = 'dummy'\n",
    "\n",
    "conn_str = f'DRIVER={{ODBC Driver 17 for SQL Server}};SERVER={server};DATABASE={database};Trusted_Connection=yes;'\n",
    "conn_str"
   ]
  },
  {
   "cell_type": "code",
   "execution_count": 3,
   "metadata": {},
   "outputs": [
    {
     "name": "stdout",
     "output_type": "stream",
     "text": [
      "Users inserted successfully.\n"
     ]
    }
   ],
   "source": [
    "user = User(50)\n",
    "user.tosql(conn_str)"
   ]
  },
  {
   "cell_type": "code",
   "execution_count": 4,
   "metadata": {},
   "outputs": [],
   "source": [
    "def project_generator(n, start_date):\n",
    "    start_date = datetime.strptime(start_date, '%Y-%m-%d').date()\n",
    "    for i in range(1,n+1):\n",
    "        offset = random.randint(0,10)\n",
    "        task_count = random.randint(10, 50)\n",
    "        task_branch = 3 if task_count > 30 else 2\n",
    "        task_interval = task_count // task_branch + random.randint(1,6)\n",
    "        \n",
    "        project_date = start_date + timedelta(days=offset*7)\n",
    "        \n",
    "        project = Project(f'project{i}', str(project_date), task_count, task_interval)\n",
    "        print(f'[{i}/{n}] : ', end='')\n",
    "        project.tosql(conn_str)"
   ]
  },
  {
   "cell_type": "code",
   "execution_count": 5,
   "metadata": {},
   "outputs": [
    {
     "name": "stdout",
     "output_type": "stream",
     "text": [
      "[1/10] : Project and tasks inserted successfully.\n",
      "[2/10] : Project and tasks inserted successfully.\n",
      "[3/10] : Project and tasks inserted successfully.\n",
      "[4/10] : Project and tasks inserted successfully.\n",
      "[5/10] : Project and tasks inserted successfully.\n",
      "[6/10] : Project and tasks inserted successfully.\n",
      "[7/10] : Project and tasks inserted successfully.\n",
      "[8/10] : Project and tasks inserted successfully.\n",
      "[9/10] : Project and tasks inserted successfully.\n",
      "[10/10] : Project and tasks inserted successfully.\n"
     ]
    }
   ],
   "source": [
    "project_generator(10,'2024-03-11')"
   ]
  },
  {
   "cell_type": "code",
   "execution_count": null,
   "metadata": {},
   "outputs": [],
   "source": []
  }
 ],
 "metadata": {
  "kernelspec": {
   "display_name": "Python 3",
   "language": "python",
   "name": "python3"
  },
  "language_info": {
   "codemirror_mode": {
    "name": "ipython",
    "version": 3
   },
   "file_extension": ".py",
   "mimetype": "text/x-python",
   "name": "python",
   "nbconvert_exporter": "python",
   "pygments_lexer": "ipython3",
   "version": "3.11.8"
  }
 },
 "nbformat": 4,
 "nbformat_minor": 2
}

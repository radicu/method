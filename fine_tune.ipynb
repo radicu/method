{
 "cells": [
  {
   "cell_type": "code",
   "execution_count": 1,
   "metadata": {},
   "outputs": [
    {
     "name": "stdout",
     "output_type": "stream",
     "text": [
      "Checking whether there is an H2O instance running at http://localhost:54321..... not found.\n",
      "Attempting to start a local H2O server...\n",
      "; Java HotSpot(TM) 64-Bit Server VM (build 25.51-b03, mixed mode)\n",
      "  Starting server from C:\\Users\\Acer\\anaconda3\\envs\\engine\\Lib\\site-packages\\h2o\\backend\\bin\\h2o.jar\n",
      "  Ice root: C:\\Users\\Acer\\AppData\\Local\\Temp\\tmpkvzgfiia\n",
      "  JVM stdout: C:\\Users\\Acer\\AppData\\Local\\Temp\\tmpkvzgfiia\\h2o_Acer_started_from_python.out\n",
      "  JVM stderr: C:\\Users\\Acer\\AppData\\Local\\Temp\\tmpkvzgfiia\\h2o_Acer_started_from_python.err\n",
      "  Server is running at http://127.0.0.1:54321\n",
      "Connecting to H2O server at http://127.0.0.1:54321 ... successful.\n"
     ]
    },
    {
     "data": {
      "text/html": [
       "\n",
       "<style>\n",
       "\n",
       "#h2o-table-1.h2o-container {\n",
       "  overflow-x: auto;\n",
       "}\n",
       "#h2o-table-1 .h2o-table {\n",
       "  /* width: 100%; */\n",
       "  margin-top: 1em;\n",
       "  margin-bottom: 1em;\n",
       "}\n",
       "#h2o-table-1 .h2o-table caption {\n",
       "  white-space: nowrap;\n",
       "  caption-side: top;\n",
       "  text-align: left;\n",
       "  /* margin-left: 1em; */\n",
       "  margin: 0;\n",
       "  font-size: larger;\n",
       "}\n",
       "#h2o-table-1 .h2o-table thead {\n",
       "  white-space: nowrap; \n",
       "  position: sticky;\n",
       "  top: 0;\n",
       "  box-shadow: 0 -1px inset;\n",
       "}\n",
       "#h2o-table-1 .h2o-table tbody {\n",
       "  overflow: auto;\n",
       "}\n",
       "#h2o-table-1 .h2o-table th,\n",
       "#h2o-table-1 .h2o-table td {\n",
       "  text-align: right;\n",
       "  /* border: 1px solid; */\n",
       "}\n",
       "#h2o-table-1 .h2o-table tr:nth-child(even) {\n",
       "  /* background: #F5F5F5 */\n",
       "}\n",
       "\n",
       "</style>      \n",
       "<div id=\"h2o-table-1\" class=\"h2o-container\">\n",
       "  <table class=\"h2o-table\">\n",
       "    <caption></caption>\n",
       "    <thead></thead>\n",
       "    <tbody><tr><td>H2O_cluster_uptime:</td>\n",
       "<td>02 secs</td></tr>\n",
       "<tr><td>H2O_cluster_timezone:</td>\n",
       "<td>Asia/Bangkok</td></tr>\n",
       "<tr><td>H2O_data_parsing_timezone:</td>\n",
       "<td>UTC</td></tr>\n",
       "<tr><td>H2O_cluster_version:</td>\n",
       "<td>3.46.0.1</td></tr>\n",
       "<tr><td>H2O_cluster_version_age:</td>\n",
       "<td>2 months and 3 days</td></tr>\n",
       "<tr><td>H2O_cluster_name:</td>\n",
       "<td>H2O_from_python_Acer_ldxch0</td></tr>\n",
       "<tr><td>H2O_cluster_total_nodes:</td>\n",
       "<td>1</td></tr>\n",
       "<tr><td>H2O_cluster_free_memory:</td>\n",
       "<td>3.501 Gb</td></tr>\n",
       "<tr><td>H2O_cluster_total_cores:</td>\n",
       "<td>16</td></tr>\n",
       "<tr><td>H2O_cluster_allowed_cores:</td>\n",
       "<td>16</td></tr>\n",
       "<tr><td>H2O_cluster_status:</td>\n",
       "<td>locked, healthy</td></tr>\n",
       "<tr><td>H2O_connection_url:</td>\n",
       "<td>http://127.0.0.1:54321</td></tr>\n",
       "<tr><td>H2O_connection_proxy:</td>\n",
       "<td>{\"http\": null, \"https\": null}</td></tr>\n",
       "<tr><td>H2O_internal_security:</td>\n",
       "<td>False</td></tr>\n",
       "<tr><td>Python_version:</td>\n",
       "<td>3.11.8 final</td></tr></tbody>\n",
       "  </table>\n",
       "</div>\n"
      ],
      "text/plain": [
       "--------------------------  -----------------------------\n",
       "H2O_cluster_uptime:         02 secs\n",
       "H2O_cluster_timezone:       Asia/Bangkok\n",
       "H2O_data_parsing_timezone:  UTC\n",
       "H2O_cluster_version:        3.46.0.1\n",
       "H2O_cluster_version_age:    2 months and 3 days\n",
       "H2O_cluster_name:           H2O_from_python_Acer_ldxch0\n",
       "H2O_cluster_total_nodes:    1\n",
       "H2O_cluster_free_memory:    3.501 Gb\n",
       "H2O_cluster_total_cores:    16\n",
       "H2O_cluster_allowed_cores:  16\n",
       "H2O_cluster_status:         locked, healthy\n",
       "H2O_connection_url:         http://127.0.0.1:54321\n",
       "H2O_connection_proxy:       {\"http\": null, \"https\": null}\n",
       "H2O_internal_security:      False\n",
       "Python_version:             3.11.8 final\n",
       "--------------------------  -----------------------------"
      ]
     },
     "metadata": {},
     "output_type": "display_data"
    }
   ],
   "source": [
    "import pandas as pd\n",
    "import numpy as np\n",
    "import random\n",
    "\n",
    "import h2o\n",
    "from h2o.automl import H2OAutoML\n",
    "h2o.init()"
   ]
  },
  {
   "cell_type": "code",
   "execution_count": 2,
   "metadata": {},
   "outputs": [],
   "source": [
    "tasks = pd.read_csv('data/30_2018/task_data.csv')\n",
    "tasks_df = pd.read_csv('data/30_2018/task_train.csv')\n",
    "\n",
    "target = 'TaskDelay'\n",
    "\n",
    "X = tasks_df.copy()\n",
    "y = X.pop(target)"
   ]
  },
  {
   "cell_type": "code",
   "execution_count": 3,
   "metadata": {},
   "outputs": [],
   "source": [
    "project_ids = tasks['ProjectID'].unique().tolist()\n",
    "indices = random.sample(project_ids, int(0.2 * len(project_ids)))\n",
    "val_indices = random.sample(indices, int(0.5 * len(indices)))\n",
    "test_indices = [x for x in indices if x not in val_indices]\n",
    "val_idx = tasks.loc[tasks['ProjectID'].isin(val_indices)].index.tolist()\n",
    "test_idx = tasks.loc[tasks['ProjectID'].isin(test_indices)].index.tolist()\n",
    "\n",
    "val_frame = tasks_df[tasks_df.index.isin(val_idx)]\n",
    "test_frame = tasks_df[tasks_df.index.isin(test_idx)]\n",
    "train_frame = tasks_df[(~tasks_df.index.isin(test_idx)) & (~tasks_df.index.isin(val_idx))]"
   ]
  },
  {
   "cell_type": "code",
   "execution_count": 4,
   "metadata": {},
   "outputs": [
    {
     "name": "stdout",
     "output_type": "stream",
     "text": [
      "Parse progress: |████████████████████████████████████████████████████████████████| (done) 100%\n",
      "Parse progress: |████████████████████████████████████████████████████████████████| (done) 100%\n",
      "Parse progress: |████████████████████████████████████████████████████████████████| (done) 100%\n"
     ]
    }
   ],
   "source": [
    "train_h2o = h2o.H2OFrame(train_frame)\n",
    "val_h2o = h2o.H2OFrame(val_frame)\n",
    "test_h2o = h2o.H2OFrame(test_frame)"
   ]
  },
  {
   "cell_type": "code",
   "execution_count": null,
   "metadata": {},
   "outputs": [],
   "source": [
    "x = train_h2o.columns\n",
    "y = 'TaskDelay'  # replace with your actual response column\n",
    "x.remove(y)"
   ]
  },
  {
   "cell_type": "code",
   "execution_count": null,
   "metadata": {},
   "outputs": [],
   "source": [
    "aml = H2OAutoML(max_runtime_secs=1800,\n",
    "                seed=42,\n",
    "                stopping_metric='deviance', \n",
    "                nfolds=0)\n",
    "aml.train(x=x, y=y, training_frame=train_h2o, validation_frame=val_h2o)"
   ]
  },
  {
   "cell_type": "code",
   "execution_count": null,
   "metadata": {},
   "outputs": [],
   "source": [
    "lb = aml.leaderboard\n",
    "print(lb)"
   ]
  },
  {
   "cell_type": "code",
   "execution_count": null,
   "metadata": {},
   "outputs": [],
   "source": [
    "best = aml.leader\n",
    "best.model_performance(test_h2o)"
   ]
  },
  {
   "cell_type": "code",
   "execution_count": null,
   "metadata": {},
   "outputs": [],
   "source": [
    "h2o.save_model(model=best, path='model', force=True)"
   ]
  },
  {
   "cell_type": "code",
   "execution_count": 5,
   "metadata": {},
   "outputs": [],
   "source": [
    "loaded_model = h2o.load_model(\"model/30_2018_30\")"
   ]
  },
  {
   "cell_type": "code",
   "execution_count": null,
   "metadata": {},
   "outputs": [],
   "source": [
    "loaded_model.model_performance(test_h2o)"
   ]
  },
  {
   "cell_type": "code",
   "execution_count": 6,
   "metadata": {},
   "outputs": [
    {
     "name": "stdout",
     "output_type": "stream",
     "text": [
      "deeplearning prediction progress: |██████████████████████████████████████████████| (done) 100%\n"
     ]
    },
    {
     "data": {
      "text/html": [
       "<table class='dataframe'>\n",
       "<thead>\n",
       "<tr><th style=\"text-align: right;\">  Cost</th><th style=\"text-align: right;\">  Priority</th><th style=\"text-align: right;\">  Progress</th><th style=\"text-align: right;\">  Duration</th><th style=\"text-align: right;\">  Worker</th><th style=\"text-align: right;\">  TaskLength</th><th style=\"text-align: right;\">  IsBadWeather</th><th style=\"text-align: right;\">  WeatherAssessment</th><th style=\"text-align: right;\">  StartDelay</th><th style=\"text-align: right;\">  DayCount</th><th style=\"text-align: right;\">  TaskDelay</th><th style=\"text-align: right;\">  Is_Delayed</th><th style=\"text-align: right;\">    Preds</th></tr>\n",
       "</thead>\n",
       "<tbody>\n",
       "<tr><td style=\"text-align: right;\">  2271</td><td style=\"text-align: right;\">         1</td><td style=\"text-align: right;\">   11.1111</td><td style=\"text-align: right;\">         9</td><td style=\"text-align: right;\">       5</td><td style=\"text-align: right;\">           0</td><td style=\"text-align: right;\">             1</td><td style=\"text-align: right;\">               37.5</td><td style=\"text-align: right;\">           0</td><td style=\"text-align: right;\">         0</td><td style=\"text-align: right;\">          1</td><td style=\"text-align: right;\">           0</td><td style=\"text-align: right;\"> 1.34924 </td></tr>\n",
       "<tr><td style=\"text-align: right;\">  2271</td><td style=\"text-align: right;\">         1</td><td style=\"text-align: right;\">   22.2222</td><td style=\"text-align: right;\">         9</td><td style=\"text-align: right;\">       5</td><td style=\"text-align: right;\">           0</td><td style=\"text-align: right;\">             1</td><td style=\"text-align: right;\">               37.5</td><td style=\"text-align: right;\">           0</td><td style=\"text-align: right;\">         1</td><td style=\"text-align: right;\">          1</td><td style=\"text-align: right;\">           0</td><td style=\"text-align: right;\"> 1.32734 </td></tr>\n",
       "<tr><td style=\"text-align: right;\">  2271</td><td style=\"text-align: right;\">         1</td><td style=\"text-align: right;\">   33.3333</td><td style=\"text-align: right;\">         9</td><td style=\"text-align: right;\">       5</td><td style=\"text-align: right;\">           0</td><td style=\"text-align: right;\">             1</td><td style=\"text-align: right;\">               37.5</td><td style=\"text-align: right;\">           0</td><td style=\"text-align: right;\">         2</td><td style=\"text-align: right;\">          1</td><td style=\"text-align: right;\">           0</td><td style=\"text-align: right;\"> 1.3066  </td></tr>\n",
       "<tr><td style=\"text-align: right;\">  2271</td><td style=\"text-align: right;\">         1</td><td style=\"text-align: right;\">   33.3333</td><td style=\"text-align: right;\">         9</td><td style=\"text-align: right;\">       5</td><td style=\"text-align: right;\">           0</td><td style=\"text-align: right;\">             0</td><td style=\"text-align: right;\">               37.5</td><td style=\"text-align: right;\">           0</td><td style=\"text-align: right;\">         3</td><td style=\"text-align: right;\">          1</td><td style=\"text-align: right;\">           0</td><td style=\"text-align: right;\"> 1.60341 </td></tr>\n",
       "<tr><td style=\"text-align: right;\">  2271</td><td style=\"text-align: right;\">         1</td><td style=\"text-align: right;\">   44.4444</td><td style=\"text-align: right;\">         9</td><td style=\"text-align: right;\">       5</td><td style=\"text-align: right;\">           0</td><td style=\"text-align: right;\">             0</td><td style=\"text-align: right;\">               37.5</td><td style=\"text-align: right;\">           0</td><td style=\"text-align: right;\">         4</td><td style=\"text-align: right;\">          1</td><td style=\"text-align: right;\">           0</td><td style=\"text-align: right;\"> 1.52661 </td></tr>\n",
       "<tr><td style=\"text-align: right;\">  2271</td><td style=\"text-align: right;\">         1</td><td style=\"text-align: right;\">   55.5556</td><td style=\"text-align: right;\">         9</td><td style=\"text-align: right;\">       5</td><td style=\"text-align: right;\">           0</td><td style=\"text-align: right;\">             0</td><td style=\"text-align: right;\">               37.5</td><td style=\"text-align: right;\">           0</td><td style=\"text-align: right;\">         5</td><td style=\"text-align: right;\">          1</td><td style=\"text-align: right;\">           0</td><td style=\"text-align: right;\"> 1.44549 </td></tr>\n",
       "<tr><td style=\"text-align: right;\">  2138</td><td style=\"text-align: right;\">         1</td><td style=\"text-align: right;\">    0     </td><td style=\"text-align: right;\">         8</td><td style=\"text-align: right;\">       5</td><td style=\"text-align: right;\">           0</td><td style=\"text-align: right;\">             0</td><td style=\"text-align: right;\">               25  </td><td style=\"text-align: right;\">           0</td><td style=\"text-align: right;\">         0</td><td style=\"text-align: right;\">          3</td><td style=\"text-align: right;\">           0</td><td style=\"text-align: right;\"> 1.73432 </td></tr>\n",
       "<tr><td style=\"text-align: right;\">  2271</td><td style=\"text-align: right;\">         1</td><td style=\"text-align: right;\">   66.6667</td><td style=\"text-align: right;\">         9</td><td style=\"text-align: right;\">       5</td><td style=\"text-align: right;\">           0</td><td style=\"text-align: right;\">             0</td><td style=\"text-align: right;\">               37.5</td><td style=\"text-align: right;\">           0</td><td style=\"text-align: right;\">         6</td><td style=\"text-align: right;\">          1</td><td style=\"text-align: right;\">           0</td><td style=\"text-align: right;\"> 1.33433 </td></tr>\n",
       "<tr><td style=\"text-align: right;\">  2138</td><td style=\"text-align: right;\">         1</td><td style=\"text-align: right;\">   12.5   </td><td style=\"text-align: right;\">         8</td><td style=\"text-align: right;\">       5</td><td style=\"text-align: right;\">           0</td><td style=\"text-align: right;\">             0</td><td style=\"text-align: right;\">               25  </td><td style=\"text-align: right;\">           0</td><td style=\"text-align: right;\">         1</td><td style=\"text-align: right;\">          3</td><td style=\"text-align: right;\">           0</td><td style=\"text-align: right;\"> 1.65777 </td></tr>\n",
       "<tr><td style=\"text-align: right;\">  2271</td><td style=\"text-align: right;\">         1</td><td style=\"text-align: right;\">   77.7778</td><td style=\"text-align: right;\">         9</td><td style=\"text-align: right;\">       5</td><td style=\"text-align: right;\">           0</td><td style=\"text-align: right;\">             0</td><td style=\"text-align: right;\">               37.5</td><td style=\"text-align: right;\">           0</td><td style=\"text-align: right;\">         7</td><td style=\"text-align: right;\">          1</td><td style=\"text-align: right;\">           0</td><td style=\"text-align: right;\"> 1.14891 </td></tr>\n",
       "<tr><td style=\"text-align: right;\">  2138</td><td style=\"text-align: right;\">         1</td><td style=\"text-align: right;\">   12.5   </td><td style=\"text-align: right;\">         8</td><td style=\"text-align: right;\">       5</td><td style=\"text-align: right;\">           0</td><td style=\"text-align: right;\">             0</td><td style=\"text-align: right;\">               25  </td><td style=\"text-align: right;\">           0</td><td style=\"text-align: right;\">         2</td><td style=\"text-align: right;\">          3</td><td style=\"text-align: right;\">           0</td><td style=\"text-align: right;\"> 1.99451 </td></tr>\n",
       "<tr><td style=\"text-align: right;\">  2271</td><td style=\"text-align: right;\">         1</td><td style=\"text-align: right;\">   88.8889</td><td style=\"text-align: right;\">         9</td><td style=\"text-align: right;\">       5</td><td style=\"text-align: right;\">           0</td><td style=\"text-align: right;\">             0</td><td style=\"text-align: right;\">               37.5</td><td style=\"text-align: right;\">           0</td><td style=\"text-align: right;\">         8</td><td style=\"text-align: right;\">          1</td><td style=\"text-align: right;\">           0</td><td style=\"text-align: right;\"> 0.876941</td></tr>\n",
       "<tr><td style=\"text-align: right;\">  2138</td><td style=\"text-align: right;\">         1</td><td style=\"text-align: right;\">   25     </td><td style=\"text-align: right;\">         8</td><td style=\"text-align: right;\">       5</td><td style=\"text-align: right;\">           0</td><td style=\"text-align: right;\">             0</td><td style=\"text-align: right;\">               25  </td><td style=\"text-align: right;\">           0</td><td style=\"text-align: right;\">         3</td><td style=\"text-align: right;\">          3</td><td style=\"text-align: right;\">           0</td><td style=\"text-align: right;\"> 1.9129  </td></tr>\n",
       "<tr><td style=\"text-align: right;\">  2271</td><td style=\"text-align: right;\">         1</td><td style=\"text-align: right;\">  100     </td><td style=\"text-align: right;\">         9</td><td style=\"text-align: right;\">       5</td><td style=\"text-align: right;\">           0</td><td style=\"text-align: right;\">             0</td><td style=\"text-align: right;\">               37.5</td><td style=\"text-align: right;\">           0</td><td style=\"text-align: right;\">         9</td><td style=\"text-align: right;\">          1</td><td style=\"text-align: right;\">           0</td><td style=\"text-align: right;\"> 0.598657</td></tr>\n",
       "<tr><td style=\"text-align: right;\">  2138</td><td style=\"text-align: right;\">         1</td><td style=\"text-align: right;\">   25     </td><td style=\"text-align: right;\">         8</td><td style=\"text-align: right;\">       5</td><td style=\"text-align: right;\">           0</td><td style=\"text-align: right;\">             0</td><td style=\"text-align: right;\">               25  </td><td style=\"text-align: right;\">           0</td><td style=\"text-align: right;\">         4</td><td style=\"text-align: right;\">          3</td><td style=\"text-align: right;\">           0</td><td style=\"text-align: right;\"> 2.22827 </td></tr>\n",
       "<tr><td style=\"text-align: right;\">   611</td><td style=\"text-align: right;\">         0</td><td style=\"text-align: right;\">    0     </td><td style=\"text-align: right;\">         4</td><td style=\"text-align: right;\">       1</td><td style=\"text-align: right;\">           1</td><td style=\"text-align: right;\">             0</td><td style=\"text-align: right;\">               50  </td><td style=\"text-align: right;\">           0</td><td style=\"text-align: right;\">         0</td><td style=\"text-align: right;\">          2</td><td style=\"text-align: right;\">           0</td><td style=\"text-align: right;\"> 3.0074  </td></tr>\n",
       "<tr><td style=\"text-align: right;\">  2138</td><td style=\"text-align: right;\">         1</td><td style=\"text-align: right;\">   37.5   </td><td style=\"text-align: right;\">         8</td><td style=\"text-align: right;\">       5</td><td style=\"text-align: right;\">           0</td><td style=\"text-align: right;\">             0</td><td style=\"text-align: right;\">               25  </td><td style=\"text-align: right;\">           0</td><td style=\"text-align: right;\">         5</td><td style=\"text-align: right;\">          3</td><td style=\"text-align: right;\">           0</td><td style=\"text-align: right;\"> 2.10927 </td></tr>\n",
       "<tr><td style=\"text-align: right;\">   611</td><td style=\"text-align: right;\">         0</td><td style=\"text-align: right;\">   25     </td><td style=\"text-align: right;\">         4</td><td style=\"text-align: right;\">       1</td><td style=\"text-align: right;\">           1</td><td style=\"text-align: right;\">             1</td><td style=\"text-align: right;\">               50  </td><td style=\"text-align: right;\">           0</td><td style=\"text-align: right;\">         1</td><td style=\"text-align: right;\">          2</td><td style=\"text-align: right;\">           0</td><td style=\"text-align: right;\"> 2.32724 </td></tr>\n",
       "<tr><td style=\"text-align: right;\">  2138</td><td style=\"text-align: right;\">         1</td><td style=\"text-align: right;\">   50     </td><td style=\"text-align: right;\">         8</td><td style=\"text-align: right;\">       5</td><td style=\"text-align: right;\">           0</td><td style=\"text-align: right;\">             1</td><td style=\"text-align: right;\">               25  </td><td style=\"text-align: right;\">           0</td><td style=\"text-align: right;\">         6</td><td style=\"text-align: right;\">          3</td><td style=\"text-align: right;\">           0</td><td style=\"text-align: right;\"> 1.95262 </td></tr>\n",
       "<tr><td style=\"text-align: right;\">   611</td><td style=\"text-align: right;\">         0</td><td style=\"text-align: right;\">   50     </td><td style=\"text-align: right;\">         4</td><td style=\"text-align: right;\">       1</td><td style=\"text-align: right;\">           1</td><td style=\"text-align: right;\">             1</td><td style=\"text-align: right;\">               50  </td><td style=\"text-align: right;\">           0</td><td style=\"text-align: right;\">         2</td><td style=\"text-align: right;\">          2</td><td style=\"text-align: right;\">           0</td><td style=\"text-align: right;\"> 1.75693 </td></tr>\n",
       "<tr><td style=\"text-align: right;\">  2138</td><td style=\"text-align: right;\">         1</td><td style=\"text-align: right;\">   62.5   </td><td style=\"text-align: right;\">         8</td><td style=\"text-align: right;\">       5</td><td style=\"text-align: right;\">           0</td><td style=\"text-align: right;\">             1</td><td style=\"text-align: right;\">               25  </td><td style=\"text-align: right;\">           0</td><td style=\"text-align: right;\">         7</td><td style=\"text-align: right;\">          3</td><td style=\"text-align: right;\">           0</td><td style=\"text-align: right;\"> 1.79454 </td></tr>\n",
       "<tr><td style=\"text-align: right;\">   611</td><td style=\"text-align: right;\">         0</td><td style=\"text-align: right;\">   75     </td><td style=\"text-align: right;\">         4</td><td style=\"text-align: right;\">       1</td><td style=\"text-align: right;\">           1</td><td style=\"text-align: right;\">             1</td><td style=\"text-align: right;\">               50  </td><td style=\"text-align: right;\">           0</td><td style=\"text-align: right;\">         3</td><td style=\"text-align: right;\">          2</td><td style=\"text-align: right;\">           0</td><td style=\"text-align: right;\"> 1.22468 </td></tr>\n",
       "<tr><td style=\"text-align: right;\">  2138</td><td style=\"text-align: right;\">         1</td><td style=\"text-align: right;\">   75     </td><td style=\"text-align: right;\">         8</td><td style=\"text-align: right;\">       5</td><td style=\"text-align: right;\">           0</td><td style=\"text-align: right;\">             1</td><td style=\"text-align: right;\">               25  </td><td style=\"text-align: right;\">           0</td><td style=\"text-align: right;\">         8</td><td style=\"text-align: right;\">          3</td><td style=\"text-align: right;\">           1</td><td style=\"text-align: right;\"> 1.42687 </td></tr>\n",
       "<tr><td style=\"text-align: right;\">   611</td><td style=\"text-align: right;\">         1</td><td style=\"text-align: right;\">   75     </td><td style=\"text-align: right;\">         4</td><td style=\"text-align: right;\">       1</td><td style=\"text-align: right;\">           1</td><td style=\"text-align: right;\">             0</td><td style=\"text-align: right;\">               50  </td><td style=\"text-align: right;\">           0</td><td style=\"text-align: right;\">         4</td><td style=\"text-align: right;\">          2</td><td style=\"text-align: right;\">           1</td><td style=\"text-align: right;\"> 1.82445 </td></tr>\n",
       "<tr><td style=\"text-align: right;\">  2138</td><td style=\"text-align: right;\">         1</td><td style=\"text-align: right;\">   87.5   </td><td style=\"text-align: right;\">         8</td><td style=\"text-align: right;\">       5</td><td style=\"text-align: right;\">           0</td><td style=\"text-align: right;\">             0</td><td style=\"text-align: right;\">               25  </td><td style=\"text-align: right;\">           0</td><td style=\"text-align: right;\">         9</td><td style=\"text-align: right;\">          3</td><td style=\"text-align: right;\">           1</td><td style=\"text-align: right;\"> 1.34298 </td></tr>\n",
       "<tr><td style=\"text-align: right;\">   611</td><td style=\"text-align: right;\">         1</td><td style=\"text-align: right;\">  100     </td><td style=\"text-align: right;\">         4</td><td style=\"text-align: right;\">       1</td><td style=\"text-align: right;\">           1</td><td style=\"text-align: right;\">             0</td><td style=\"text-align: right;\">               50  </td><td style=\"text-align: right;\">           0</td><td style=\"text-align: right;\">         5</td><td style=\"text-align: right;\">          2</td><td style=\"text-align: right;\">           0</td><td style=\"text-align: right;\"> 1.41305 </td></tr>\n",
       "<tr><td style=\"text-align: right;\">   537</td><td style=\"text-align: right;\">         0</td><td style=\"text-align: right;\">   50     </td><td style=\"text-align: right;\">         2</td><td style=\"text-align: right;\">       2</td><td style=\"text-align: right;\">           2</td><td style=\"text-align: right;\">             0</td><td style=\"text-align: right;\">               12.5</td><td style=\"text-align: right;\">           1</td><td style=\"text-align: right;\">         0</td><td style=\"text-align: right;\">          0</td><td style=\"text-align: right;\">           0</td><td style=\"text-align: right;\"> 0.536   </td></tr>\n",
       "<tr><td style=\"text-align: right;\">  2138</td><td style=\"text-align: right;\">         1</td><td style=\"text-align: right;\">  100     </td><td style=\"text-align: right;\">         8</td><td style=\"text-align: right;\">       5</td><td style=\"text-align: right;\">           0</td><td style=\"text-align: right;\">             0</td><td style=\"text-align: right;\">               25  </td><td style=\"text-align: right;\">           0</td><td style=\"text-align: right;\">        10</td><td style=\"text-align: right;\">          3</td><td style=\"text-align: right;\">           0</td><td style=\"text-align: right;\"> 1.25425 </td></tr>\n",
       "<tr><td style=\"text-align: right;\">   360</td><td style=\"text-align: right;\">         0</td><td style=\"text-align: right;\">   16.6667</td><td style=\"text-align: right;\">         6</td><td style=\"text-align: right;\">       4</td><td style=\"text-align: right;\">           1</td><td style=\"text-align: right;\">             0</td><td style=\"text-align: right;\">               37.5</td><td style=\"text-align: right;\">           3</td><td style=\"text-align: right;\">         0</td><td style=\"text-align: right;\">          2</td><td style=\"text-align: right;\">           0</td><td style=\"text-align: right;\"> 1.2312  </td></tr>\n",
       "<tr><td style=\"text-align: right;\">   537</td><td style=\"text-align: right;\">         0</td><td style=\"text-align: right;\">  100     </td><td style=\"text-align: right;\">         2</td><td style=\"text-align: right;\">       2</td><td style=\"text-align: right;\">           2</td><td style=\"text-align: right;\">             1</td><td style=\"text-align: right;\">               12.5</td><td style=\"text-align: right;\">           1</td><td style=\"text-align: right;\">         1</td><td style=\"text-align: right;\">          0</td><td style=\"text-align: right;\">           0</td><td style=\"text-align: right;\">-0.659962</td></tr>\n",
       "<tr><td style=\"text-align: right;\">   205</td><td style=\"text-align: right;\">         0</td><td style=\"text-align: right;\">   50     </td><td style=\"text-align: right;\">         2</td><td style=\"text-align: right;\">       2</td><td style=\"text-align: right;\">           3</td><td style=\"text-align: right;\">             1</td><td style=\"text-align: right;\">               25  </td><td style=\"text-align: right;\">           1</td><td style=\"text-align: right;\">         0</td><td style=\"text-align: right;\">          0</td><td style=\"text-align: right;\">           0</td><td style=\"text-align: right;\"> 0.866071</td></tr>\n",
       "<tr><td style=\"text-align: right;\">   360</td><td style=\"text-align: right;\">         0</td><td style=\"text-align: right;\">   33.3333</td><td style=\"text-align: right;\">         6</td><td style=\"text-align: right;\">       4</td><td style=\"text-align: right;\">           1</td><td style=\"text-align: right;\">             1</td><td style=\"text-align: right;\">               37.5</td><td style=\"text-align: right;\">           3</td><td style=\"text-align: right;\">         1</td><td style=\"text-align: right;\">          2</td><td style=\"text-align: right;\">           0</td><td style=\"text-align: right;\"> 0.939962</td></tr>\n",
       "<tr><td style=\"text-align: right;\">   205</td><td style=\"text-align: right;\">         0</td><td style=\"text-align: right;\">  100     </td><td style=\"text-align: right;\">         2</td><td style=\"text-align: right;\">       2</td><td style=\"text-align: right;\">           3</td><td style=\"text-align: right;\">             0</td><td style=\"text-align: right;\">               25  </td><td style=\"text-align: right;\">           1</td><td style=\"text-align: right;\">         1</td><td style=\"text-align: right;\">          0</td><td style=\"text-align: right;\">           0</td><td style=\"text-align: right;\">-0.634746</td></tr>\n",
       "<tr><td style=\"text-align: right;\">   967</td><td style=\"text-align: right;\">         0</td><td style=\"text-align: right;\">   50     </td><td style=\"text-align: right;\">         2</td><td style=\"text-align: right;\">       4</td><td style=\"text-align: right;\">           4</td><td style=\"text-align: right;\">             0</td><td style=\"text-align: right;\">               12.5</td><td style=\"text-align: right;\">           0</td><td style=\"text-align: right;\">         0</td><td style=\"text-align: right;\">          0</td><td style=\"text-align: right;\">           0</td><td style=\"text-align: right;\"> 0.365881</td></tr>\n",
       "<tr><td style=\"text-align: right;\">   360</td><td style=\"text-align: right;\">         0</td><td style=\"text-align: right;\">   33.3333</td><td style=\"text-align: right;\">         6</td><td style=\"text-align: right;\">       4</td><td style=\"text-align: right;\">           1</td><td style=\"text-align: right;\">             0</td><td style=\"text-align: right;\">               37.5</td><td style=\"text-align: right;\">           3</td><td style=\"text-align: right;\">         2</td><td style=\"text-align: right;\">          2</td><td style=\"text-align: right;\">           0</td><td style=\"text-align: right;\"> 1.57413 </td></tr>\n",
       "<tr><td style=\"text-align: right;\">   967</td><td style=\"text-align: right;\">         0</td><td style=\"text-align: right;\">  100     </td><td style=\"text-align: right;\">         2</td><td style=\"text-align: right;\">       4</td><td style=\"text-align: right;\">           4</td><td style=\"text-align: right;\">             0</td><td style=\"text-align: right;\">               12.5</td><td style=\"text-align: right;\">           0</td><td style=\"text-align: right;\">         1</td><td style=\"text-align: right;\">          0</td><td style=\"text-align: right;\">           0</td><td style=\"text-align: right;\">-0.777451</td></tr>\n",
       "<tr><td style=\"text-align: right;\">   360</td><td style=\"text-align: right;\">         1</td><td style=\"text-align: right;\">   50     </td><td style=\"text-align: right;\">         6</td><td style=\"text-align: right;\">       4</td><td style=\"text-align: right;\">           1</td><td style=\"text-align: right;\">             0</td><td style=\"text-align: right;\">               37.5</td><td style=\"text-align: right;\">           3</td><td style=\"text-align: right;\">         3</td><td style=\"text-align: right;\">          2</td><td style=\"text-align: right;\">           1</td><td style=\"text-align: right;\"> 1.25376 </td></tr>\n",
       "<tr><td style=\"text-align: right;\">   287</td><td style=\"text-align: right;\">         0</td><td style=\"text-align: right;\">   33.3333</td><td style=\"text-align: right;\">         3</td><td style=\"text-align: right;\">       4</td><td style=\"text-align: right;\">           5</td><td style=\"text-align: right;\">             0</td><td style=\"text-align: right;\">               25  </td><td style=\"text-align: right;\">           0</td><td style=\"text-align: right;\">         0</td><td style=\"text-align: right;\">          0</td><td style=\"text-align: right;\">           0</td><td style=\"text-align: right;\"> 0.775013</td></tr>\n",
       "<tr><td style=\"text-align: right;\">   360</td><td style=\"text-align: right;\">         1</td><td style=\"text-align: right;\">   66.6667</td><td style=\"text-align: right;\">         6</td><td style=\"text-align: right;\">       4</td><td style=\"text-align: right;\">           1</td><td style=\"text-align: right;\">             0</td><td style=\"text-align: right;\">               37.5</td><td style=\"text-align: right;\">           3</td><td style=\"text-align: right;\">         4</td><td style=\"text-align: right;\">          2</td><td style=\"text-align: right;\">           1</td><td style=\"text-align: right;\"> 0.993233</td></tr>\n",
       "<tr><td style=\"text-align: right;\">   287</td><td style=\"text-align: right;\">         0</td><td style=\"text-align: right;\">   66.6667</td><td style=\"text-align: right;\">         3</td><td style=\"text-align: right;\">       4</td><td style=\"text-align: right;\">           5</td><td style=\"text-align: right;\">             0</td><td style=\"text-align: right;\">               25  </td><td style=\"text-align: right;\">           0</td><td style=\"text-align: right;\">         1</td><td style=\"text-align: right;\">          0</td><td style=\"text-align: right;\">           0</td><td style=\"text-align: right;\"> 0.396545</td></tr>\n",
       "<tr><td style=\"text-align: right;\">   360</td><td style=\"text-align: right;\">         1</td><td style=\"text-align: right;\">   66.6667</td><td style=\"text-align: right;\">         6</td><td style=\"text-align: right;\">       4</td><td style=\"text-align: right;\">           1</td><td style=\"text-align: right;\">             0</td><td style=\"text-align: right;\">               37.5</td><td style=\"text-align: right;\">           3</td><td style=\"text-align: right;\">         5</td><td style=\"text-align: right;\">          2</td><td style=\"text-align: right;\">           1</td><td style=\"text-align: right;\"> 1.5299  </td></tr>\n",
       "<tr><td style=\"text-align: right;\">   287</td><td style=\"text-align: right;\">         0</td><td style=\"text-align: right;\">  100     </td><td style=\"text-align: right;\">         3</td><td style=\"text-align: right;\">       4</td><td style=\"text-align: right;\">           5</td><td style=\"text-align: right;\">             0</td><td style=\"text-align: right;\">               25  </td><td style=\"text-align: right;\">           0</td><td style=\"text-align: right;\">         2</td><td style=\"text-align: right;\">          0</td><td style=\"text-align: right;\">           0</td><td style=\"text-align: right;\">-0.48316 </td></tr>\n",
       "<tr><td style=\"text-align: right;\">   360</td><td style=\"text-align: right;\">         1</td><td style=\"text-align: right;\">   83.3333</td><td style=\"text-align: right;\">         6</td><td style=\"text-align: right;\">       4</td><td style=\"text-align: right;\">           1</td><td style=\"text-align: right;\">             0</td><td style=\"text-align: right;\">               37.5</td><td style=\"text-align: right;\">           3</td><td style=\"text-align: right;\">         6</td><td style=\"text-align: right;\">          2</td><td style=\"text-align: right;\">           1</td><td style=\"text-align: right;\"> 1.20842 </td></tr>\n",
       "<tr><td style=\"text-align: right;\">   727</td><td style=\"text-align: right;\">         0</td><td style=\"text-align: right;\">   33.3333</td><td style=\"text-align: right;\">         3</td><td style=\"text-align: right;\">       2</td><td style=\"text-align: right;\">           6</td><td style=\"text-align: right;\">             1</td><td style=\"text-align: right;\">               50  </td><td style=\"text-align: right;\">           0</td><td style=\"text-align: right;\">         0</td><td style=\"text-align: right;\">          0</td><td style=\"text-align: right;\">           0</td><td style=\"text-align: right;\"> 0.960283</td></tr>\n",
       "<tr><td style=\"text-align: right;\">   360</td><td style=\"text-align: right;\">         1</td><td style=\"text-align: right;\">  100     </td><td style=\"text-align: right;\">         6</td><td style=\"text-align: right;\">       4</td><td style=\"text-align: right;\">           1</td><td style=\"text-align: right;\">             1</td><td style=\"text-align: right;\">               37.5</td><td style=\"text-align: right;\">           3</td><td style=\"text-align: right;\">         7</td><td style=\"text-align: right;\">          2</td><td style=\"text-align: right;\">           0</td><td style=\"text-align: right;\"> 1.09111 </td></tr>\n",
       "<tr><td style=\"text-align: right;\">   727</td><td style=\"text-align: right;\">         0</td><td style=\"text-align: right;\">   14.2857</td><td style=\"text-align: right;\">         7</td><td style=\"text-align: right;\">       3</td><td style=\"text-align: right;\">           2</td><td style=\"text-align: right;\">             1</td><td style=\"text-align: right;\">               12.5</td><td style=\"text-align: right;\">           5</td><td style=\"text-align: right;\">         0</td><td style=\"text-align: right;\">          0</td><td style=\"text-align: right;\">           0</td><td style=\"text-align: right;\"> 1.22625 </td></tr>\n",
       "<tr><td style=\"text-align: right;\">   727</td><td style=\"text-align: right;\">         0</td><td style=\"text-align: right;\">   66.6667</td><td style=\"text-align: right;\">         3</td><td style=\"text-align: right;\">       2</td><td style=\"text-align: right;\">           6</td><td style=\"text-align: right;\">             0</td><td style=\"text-align: right;\">               50  </td><td style=\"text-align: right;\">           0</td><td style=\"text-align: right;\">         1</td><td style=\"text-align: right;\">          0</td><td style=\"text-align: right;\">           0</td><td style=\"text-align: right;\"> 0.459853</td></tr>\n",
       "<tr><td style=\"text-align: right;\">   727</td><td style=\"text-align: right;\">         0</td><td style=\"text-align: right;\">   28.5714</td><td style=\"text-align: right;\">         7</td><td style=\"text-align: right;\">       3</td><td style=\"text-align: right;\">           2</td><td style=\"text-align: right;\">             0</td><td style=\"text-align: right;\">               12.5</td><td style=\"text-align: right;\">           5</td><td style=\"text-align: right;\">         1</td><td style=\"text-align: right;\">          0</td><td style=\"text-align: right;\">           0</td><td style=\"text-align: right;\"> 0.930524</td></tr>\n",
       "<tr><td style=\"text-align: right;\">   727</td><td style=\"text-align: right;\">         0</td><td style=\"text-align: right;\">  100     </td><td style=\"text-align: right;\">         3</td><td style=\"text-align: right;\">       2</td><td style=\"text-align: right;\">           6</td><td style=\"text-align: right;\">             0</td><td style=\"text-align: right;\">               50  </td><td style=\"text-align: right;\">           0</td><td style=\"text-align: right;\">         2</td><td style=\"text-align: right;\">          0</td><td style=\"text-align: right;\">           0</td><td style=\"text-align: right;\">-0.393074</td></tr>\n",
       "<tr><td style=\"text-align: right;\">   727</td><td style=\"text-align: right;\">         1</td><td style=\"text-align: right;\">   42.8571</td><td style=\"text-align: right;\">         7</td><td style=\"text-align: right;\">       3</td><td style=\"text-align: right;\">           2</td><td style=\"text-align: right;\">             0</td><td style=\"text-align: right;\">               12.5</td><td style=\"text-align: right;\">           5</td><td style=\"text-align: right;\">         2</td><td style=\"text-align: right;\">          0</td><td style=\"text-align: right;\">           1</td><td style=\"text-align: right;\"> 0.838815</td></tr>\n",
       "</tbody>\n",
       "</table><pre style='font-size: smaller; margin-bottom: 1em;'>[50 rows x 13 columns]</pre>"
      ],
      "text/plain": [
       "  Cost    Priority    Progress    Duration    Worker    TaskLength    IsBadWeather    WeatherAssessment    StartDelay    DayCount    TaskDelay    Is_Delayed      Preds\n",
       "------  ----------  ----------  ----------  --------  ------------  --------------  -------------------  ------------  ----------  -----------  ------------  ---------\n",
       "  2271           1     11.1111           9         5             0               1                 37.5             0           0            1             0   1.34924\n",
       "  2271           1     22.2222           9         5             0               1                 37.5             0           1            1             0   1.32734\n",
       "  2271           1     33.3333           9         5             0               1                 37.5             0           2            1             0   1.3066\n",
       "  2271           1     33.3333           9         5             0               0                 37.5             0           3            1             0   1.60341\n",
       "  2271           1     44.4444           9         5             0               0                 37.5             0           4            1             0   1.52661\n",
       "  2271           1     55.5556           9         5             0               0                 37.5             0           5            1             0   1.44549\n",
       "  2138           1      0                8         5             0               0                 25               0           0            3             0   1.73432\n",
       "  2271           1     66.6667           9         5             0               0                 37.5             0           6            1             0   1.33433\n",
       "  2138           1     12.5              8         5             0               0                 25               0           1            3             0   1.65777\n",
       "  2271           1     77.7778           9         5             0               0                 37.5             0           7            1             0   1.14891\n",
       "  2138           1     12.5              8         5             0               0                 25               0           2            3             0   1.99451\n",
       "  2271           1     88.8889           9         5             0               0                 37.5             0           8            1             0   0.876941\n",
       "  2138           1     25                8         5             0               0                 25               0           3            3             0   1.9129\n",
       "  2271           1    100                9         5             0               0                 37.5             0           9            1             0   0.598657\n",
       "  2138           1     25                8         5             0               0                 25               0           4            3             0   2.22827\n",
       "   611           0      0                4         1             1               0                 50               0           0            2             0   3.0074\n",
       "  2138           1     37.5              8         5             0               0                 25               0           5            3             0   2.10927\n",
       "   611           0     25                4         1             1               1                 50               0           1            2             0   2.32724\n",
       "  2138           1     50                8         5             0               1                 25               0           6            3             0   1.95262\n",
       "   611           0     50                4         1             1               1                 50               0           2            2             0   1.75693\n",
       "  2138           1     62.5              8         5             0               1                 25               0           7            3             0   1.79454\n",
       "   611           0     75                4         1             1               1                 50               0           3            2             0   1.22468\n",
       "  2138           1     75                8         5             0               1                 25               0           8            3             1   1.42687\n",
       "   611           1     75                4         1             1               0                 50               0           4            2             1   1.82445\n",
       "  2138           1     87.5              8         5             0               0                 25               0           9            3             1   1.34298\n",
       "   611           1    100                4         1             1               0                 50               0           5            2             0   1.41305\n",
       "   537           0     50                2         2             2               0                 12.5             1           0            0             0   0.536\n",
       "  2138           1    100                8         5             0               0                 25               0          10            3             0   1.25425\n",
       "   360           0     16.6667           6         4             1               0                 37.5             3           0            2             0   1.2312\n",
       "   537           0    100                2         2             2               1                 12.5             1           1            0             0  -0.659962\n",
       "   205           0     50                2         2             3               1                 25               1           0            0             0   0.866071\n",
       "   360           0     33.3333           6         4             1               1                 37.5             3           1            2             0   0.939962\n",
       "   205           0    100                2         2             3               0                 25               1           1            0             0  -0.634746\n",
       "   967           0     50                2         4             4               0                 12.5             0           0            0             0   0.365881\n",
       "   360           0     33.3333           6         4             1               0                 37.5             3           2            2             0   1.57413\n",
       "   967           0    100                2         4             4               0                 12.5             0           1            0             0  -0.777451\n",
       "   360           1     50                6         4             1               0                 37.5             3           3            2             1   1.25376\n",
       "   287           0     33.3333           3         4             5               0                 25               0           0            0             0   0.775013\n",
       "   360           1     66.6667           6         4             1               0                 37.5             3           4            2             1   0.993233\n",
       "   287           0     66.6667           3         4             5               0                 25               0           1            0             0   0.396545\n",
       "   360           1     66.6667           6         4             1               0                 37.5             3           5            2             1   1.5299\n",
       "   287           0    100                3         4             5               0                 25               0           2            0             0  -0.48316\n",
       "   360           1     83.3333           6         4             1               0                 37.5             3           6            2             1   1.20842\n",
       "   727           0     33.3333           3         2             6               1                 50               0           0            0             0   0.960283\n",
       "   360           1    100                6         4             1               1                 37.5             3           7            2             0   1.09111\n",
       "   727           0     14.2857           7         3             2               1                 12.5             5           0            0             0   1.22625\n",
       "   727           0     66.6667           3         2             6               0                 50               0           1            0             0   0.459853\n",
       "   727           0     28.5714           7         3             2               0                 12.5             5           1            0             0   0.930524\n",
       "   727           0    100                3         2             6               0                 50               0           2            0             0  -0.393074\n",
       "   727           1     42.8571           7         3             2               0                 12.5             5           2            0             1   0.838815\n",
       "[50 rows x 13 columns]\n"
      ]
     },
     "execution_count": 6,
     "metadata": {},
     "output_type": "execute_result"
    }
   ],
   "source": [
    "preds = loaded_model.predict(test_h2o)\n",
    "test_h2o['Preds'] = preds \n",
    "test_h2o.head(50)"
   ]
  },
  {
   "cell_type": "code",
   "execution_count": 22,
   "metadata": {},
   "outputs": [
    {
     "name": "stderr",
     "output_type": "stream",
     "text": [
      "c:\\Users\\Acer\\anaconda3\\envs\\engine\\Lib\\site-packages\\h2o\\frame.py:1983: H2ODependencyWarning: Converting H2O frame to pandas dataframe using single-thread.  For faster conversion using multi-thread, install datatable (for Python 3.9 or lower), or polars and pyarrow (for Python 3.10 or above) and activate it using:\n",
      "\n",
      "with h2o.utils.threading.local_context(polars_enabled=True, datatable_enabled=True):\n",
      "    pandas_df = h2o_df.as_data_frame()\n",
      "\n",
      "  warnings.warn(\"Converting H2O frame to pandas dataframe using single-thread.  For faster conversion using\"\n"
     ]
    },
    {
     "data": {
      "text/plain": [
       "1.3492363306034336"
      ]
     },
     "execution_count": 22,
     "metadata": {},
     "output_type": "execute_result"
    }
   ],
   "source": [
    "preds.as_data_frame().iat[0, 0]"
   ]
  },
  {
   "cell_type": "code",
   "execution_count": null,
   "metadata": {},
   "outputs": [],
   "source": []
  }
 ],
 "metadata": {
  "kernelspec": {
   "display_name": "angusta",
   "language": "python",
   "name": "python3"
  },
  "language_info": {
   "codemirror_mode": {
    "name": "ipython",
    "version": 3
   },
   "file_extension": ".py",
   "mimetype": "text/x-python",
   "name": "python",
   "nbconvert_exporter": "python",
   "pygments_lexer": "ipython3",
   "version": "3.11.8"
  }
 },
 "nbformat": 4,
 "nbformat_minor": 2
}
